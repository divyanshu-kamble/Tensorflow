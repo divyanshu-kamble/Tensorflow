{
  "nbformat": 4,
  "nbformat_minor": 0,
  "metadata": {
    "colab": {
      "name": "tf_basics.ipynb",
      "provenance": []
    },
    "kernelspec": {
      "name": "python3",
      "display_name": "Python 3"
    },
    "language_info": {
      "name": "python"
    }
  },
  "cells": [
    {
      "cell_type": "code",
      "execution_count": 2,
      "metadata": {
        "id": "j-xsxWxC1rJ4"
      },
      "outputs": [],
      "source": [
        "import numpy as np\n",
        "import tensorflow as tf"
      ]
    },
    {
      "cell_type": "markdown",
      "source": [
        "**tensor - it is a multidimensional array because tensorflow takes    input as multidimensional arrays**"
      ],
      "metadata": {
        "id": "KuB3VL0s3ouW"
      }
    },
    {
      "cell_type": "markdown",
      "source": [
        "**The difference between a NumPy array and a tensor is that the tensors are backed by the accelerator memory like GPU and they are immutable, unlike NumPy arrays**"
      ],
      "metadata": {
        "id": "xJbmlspi3xGN"
      }
    },
    {
      "cell_type": "markdown",
      "source": [
        "•\t**Constant tensors** – Used to create Tensor from tensor like object list\n",
        "\n",
        "•\t**Variable tensors** – The Variable() constructor requires an initial value for the variable, which can be a Tensor of any type and shape. This initial value defines the type and shape of the variable. After construction, the type and shape of the variable are fixed. The value can be changed using one of the assign methods"
      ],
      "metadata": {
        "id": "LEW1BNy_4CXE"
      }
    },
    {
      "cell_type": "code",
      "source": [
        "# creating a sample constant and a variable tensor\n",
        "a = tf.Variable(0)\n",
        "b = tf.constant(1)"
      ],
      "metadata": {
        "colab": {
          "base_uri": "https://localhost:8080/",
          "height": 201
        },
        "id": "TmkH4EGs2QR4",
        "outputId": "383527cf-4fcc-423b-a9f5-eda7be5d7ed0"
      },
      "execution_count": 1,
      "outputs": [
        {
          "output_type": "error",
          "ename": "NameError",
          "evalue": "ignored",
          "traceback": [
            "\u001b[0;31m---------------------------------------------------------------------------\u001b[0m",
            "\u001b[0;31mNameError\u001b[0m                                 Traceback (most recent call last)",
            "\u001b[0;32m<ipython-input-1-19bc68042c18>\u001b[0m in \u001b[0;36m<module>\u001b[0;34m()\u001b[0m\n\u001b[1;32m      1\u001b[0m \u001b[0;31m# creating a sample constant and a variable tensor\u001b[0m\u001b[0;34m\u001b[0m\u001b[0;34m\u001b[0m\u001b[0;34m\u001b[0m\u001b[0m\n\u001b[0;32m----> 2\u001b[0;31m \u001b[0ma\u001b[0m \u001b[0;34m=\u001b[0m \u001b[0mtf\u001b[0m\u001b[0;34m.\u001b[0m\u001b[0mVariable\u001b[0m\u001b[0;34m(\u001b[0m\u001b[0;36m0\u001b[0m\u001b[0;34m)\u001b[0m\u001b[0;34m\u001b[0m\u001b[0;34m\u001b[0m\u001b[0m\n\u001b[0m\u001b[1;32m      3\u001b[0m \u001b[0mb\u001b[0m \u001b[0;34m=\u001b[0m \u001b[0mtf\u001b[0m\u001b[0;34m.\u001b[0m\u001b[0mconstant\u001b[0m\u001b[0;34m(\u001b[0m\u001b[0;36m1\u001b[0m\u001b[0;34m)\u001b[0m\u001b[0;34m\u001b[0m\u001b[0;34m\u001b[0m\u001b[0m\n",
            "\u001b[0;31mNameError\u001b[0m: name 'tf' is not defined"
          ]
        }
      ]
    },
    {
      "cell_type": "code",
      "source": [
        "mid = tf.add(a,b)\n"
      ],
      "metadata": {
        "id": "fLT7Ufmv2QUQ"
      },
      "execution_count": 8,
      "outputs": []
    },
    {
      "cell_type": "code",
      "source": [
        "\n",
        "tf.__version__"
      ],
      "metadata": {
        "colab": {
          "base_uri": "https://localhost:8080/",
          "height": 36
        },
        "id": "bQLJDLJA2QWp",
        "outputId": "dc1b3ab2-2c93-4864-a3e1-21eec4d65e67"
      },
      "execution_count": 15,
      "outputs": [
        {
          "output_type": "execute_result",
          "data": {
            "text/plain": [
              "'2.8.2'"
            ],
            "application/vnd.google.colaboratory.intrinsic+json": {
              "type": "string"
            }
          },
          "metadata": {},
          "execution_count": 15
        }
      ]
    },
    {
      "cell_type": "markdown",
      "source": [
        "**Constant Tensor**"
      ],
      "metadata": {
        "id": "nvBPNYXS48kF"
      }
    },
    {
      "cell_type": "code",
      "source": [
        "# a sample constant tensor \n",
        "tensor = tf.constant([[[[1,2,3],\n",
        "                       [4,5,6],\n",
        "                       [7,8,9]]]])\n",
        "tensor"
      ],
      "metadata": {
        "colab": {
          "base_uri": "https://localhost:8080/"
        },
        "id": "X1TuzXrA2QZI",
        "outputId": "f2fd58f9-36f8-444a-a158-17c41ada4de9"
      },
      "execution_count": 18,
      "outputs": [
        {
          "output_type": "execute_result",
          "data": {
            "text/plain": [
              "<tf.Tensor: shape=(1, 1, 3, 3), dtype=int32, numpy=\n",
              "array([[[[1, 2, 3],\n",
              "         [4, 5, 6],\n",
              "         [7, 8, 9]]]], dtype=int32)>"
            ]
          },
          "metadata": {},
          "execution_count": 18
        }
      ]
    },
    {
      "cell_type": "code",
      "source": [
        "# this shows the number of dimension of the tensor or the empty matrix wrapping around the tensor data\n",
        "tensor.ndim"
      ],
      "metadata": {
        "colab": {
          "base_uri": "https://localhost:8080/"
        },
        "id": "7Vsx1m1L2Qcm",
        "outputId": "ee5f9c85-6c8a-454c-83ca-096bdc6980e7"
      },
      "execution_count": 19,
      "outputs": [
        {
          "output_type": "execute_result",
          "data": {
            "text/plain": [
              "4"
            ]
          },
          "metadata": {},
          "execution_count": 19
        }
      ]
    },
    {
      "cell_type": "code",
      "source": [
        "const = tf.constant([1,2,3])\n",
        "const\n"
      ],
      "metadata": {
        "colab": {
          "base_uri": "https://localhost:8080/"
        },
        "id": "6V_NZxS42QiP",
        "outputId": "3b7c548d-0ca0-485c-c8ec-2a98621bc1c8"
      },
      "execution_count": 20,
      "outputs": [
        {
          "output_type": "execute_result",
          "data": {
            "text/plain": [
              "<tf.Tensor: shape=(3,), dtype=int32, numpy=array([1, 2, 3], dtype=int32)>"
            ]
          },
          "metadata": {},
          "execution_count": 20
        }
      ]
    },
    {
      "cell_type": "markdown",
      "source": [
        "**Variable Tensor**"
      ],
      "metadata": {
        "id": "LfKV5AIZ5E76"
      }
    },
    {
      "cell_type": "code",
      "source": [
        "# creating a variable tensor\n",
        "change = tf.Variable([10,11])\n",
        "change"
      ],
      "metadata": {
        "colab": {
          "base_uri": "https://localhost:8080/"
        },
        "id": "-o3qV5LZGUrR",
        "outputId": "086cb1ba-86e8-4eaa-b90c-64d5bd3b92d3"
      },
      "execution_count": 24,
      "outputs": [
        {
          "output_type": "execute_result",
          "data": {
            "text/plain": [
              "<tf.Variable 'Variable:0' shape=(2,) dtype=int32, numpy=array([10, 11], dtype=int32)>"
            ]
          },
          "metadata": {},
          "execution_count": 24
        }
      ]
    },
    {
      "cell_type": "code",
      "source": [
        "# we can assign a new value to a variable tensor but not the constant tensor\n",
        "change[0].assign(2)"
      ],
      "metadata": {
        "colab": {
          "base_uri": "https://localhost:8080/"
        },
        "id": "bSRMbuiXGUnC",
        "outputId": "f433faeb-eef9-4155-ef3f-4a7e569d393c"
      },
      "execution_count": 26,
      "outputs": [
        {
          "output_type": "execute_result",
          "data": {
            "text/plain": [
              "<tf.Variable 'UnreadVariable' shape=(2,) dtype=int32, numpy=array([ 2, 11], dtype=int32)>"
            ]
          },
          "metadata": {},
          "execution_count": 26
        }
      ]
    },
    {
      "cell_type": "code",
      "source": [
        "change"
      ],
      "metadata": {
        "colab": {
          "base_uri": "https://localhost:8080/"
        },
        "id": "namqktnWGUjK",
        "outputId": "1baa91ed-6bcb-4720-d647-dbce16fc4a48"
      },
      "execution_count": 27,
      "outputs": [
        {
          "output_type": "execute_result",
          "data": {
            "text/plain": [
              "<tf.Variable 'Variable:0' shape=(2,) dtype=int32, numpy=array([ 2, 11], dtype=int32)>"
            ]
          },
          "metadata": {},
          "execution_count": 27
        }
      ]
    },
    {
      "cell_type": "code",
      "source": [
        "# 2 dimension tensor or matrix\n",
        "rank2_tensor = tf.constant([[10,4],\n",
        "                            [5,8]])\n",
        "\n",
        "rank2_tensor"
      ],
      "metadata": {
        "colab": {
          "base_uri": "https://localhost:8080/"
        },
        "id": "qSFNX0S1GUgC",
        "outputId": "d2f72b18-e073-49d5-82a1-d65f16235a15"
      },
      "execution_count": 3,
      "outputs": [
        {
          "output_type": "execute_result",
          "data": {
            "text/plain": [
              "<tf.Tensor: shape=(2, 2), dtype=int32, numpy=\n",
              "array([[10,  4],\n",
              "       [ 5,  8]], dtype=int32)>"
            ]
          },
          "metadata": {},
          "execution_count": 3
        }
      ]
    },
    {
      "cell_type": "code",
      "source": [
        "# add another dimension or increase its shape without adding new elements\n",
        "# tf.shape[ndim,row,columns]"
      ],
      "metadata": {
        "id": "0h2ruRQwGUcV"
      },
      "execution_count": null,
      "outputs": []
    },
    {
      "cell_type": "code",
      "source": [
        "\n",
        "rank3_tensor = tf.expand_dims(rank2_tensor, axis=0)\n",
        "rank3_tensor"
      ],
      "metadata": {
        "colab": {
          "base_uri": "https://localhost:8080/"
        },
        "id": "ZQtzC1YdGUX1",
        "outputId": "7c85303f-5d1c-4fc0-dcb3-6d2935cc8a49"
      },
      "execution_count": 6,
      "outputs": [
        {
          "output_type": "execute_result",
          "data": {
            "text/plain": [
              "<tf.Tensor: shape=(1, 2, 2), dtype=int32, numpy=\n",
              "array([[[10,  4],\n",
              "        [ 5,  8]]], dtype=int32)>"
            ]
          },
          "metadata": {},
          "execution_count": 6
        }
      ]
    },
    {
      "cell_type": "code",
      "source": [
        "rank4 = tf.expand_dims(rank2_tensor, axis=1)\n",
        "rank4"
      ],
      "metadata": {
        "colab": {
          "base_uri": "https://localhost:8080/"
        },
        "id": "V2b6glz6GUTf",
        "outputId": "abbd728b-a586-4069-ad4f-ae432dcde10b"
      },
      "execution_count": 7,
      "outputs": [
        {
          "output_type": "execute_result",
          "data": {
            "text/plain": [
              "<tf.Tensor: shape=(2, 1, 2), dtype=int32, numpy=\n",
              "array([[[10,  4]],\n",
              "\n",
              "       [[ 5,  8]]], dtype=int32)>"
            ]
          },
          "metadata": {},
          "execution_count": 7
        }
      ]
    },
    {
      "cell_type": "code",
      "source": [
        "tens = tf.constant([[2,3],[4,5]])\n",
        "tens"
      ],
      "metadata": {
        "colab": {
          "base_uri": "https://localhost:8080/"
        },
        "id": "mlv1AMepGUQa",
        "outputId": "ae55fa4d-a192-4d04-f504-a33a311752b0"
      },
      "execution_count": 8,
      "outputs": [
        {
          "output_type": "execute_result",
          "data": {
            "text/plain": [
              "<tf.Tensor: shape=(2, 2), dtype=int32, numpy=\n",
              "array([[2, 3],\n",
              "       [4, 5]], dtype=int32)>"
            ]
          },
          "metadata": {},
          "execution_count": 8
        }
      ]
    },
    {
      "cell_type": "markdown",
      "source": [
        "# Mathematical operations on tensors"
      ],
      "metadata": {
        "id": "Kk_AQMcS5rfz"
      }
    },
    {
      "cell_type": "code",
      "source": [
        "# addition operation on tensors\n",
        "add = tens + 10\n"
      ],
      "metadata": {
        "id": "jKkEJ3LKGUM0"
      },
      "execution_count": 13,
      "outputs": []
    },
    {
      "cell_type": "code",
      "source": [
        "add"
      ],
      "metadata": {
        "colab": {
          "base_uri": "https://localhost:8080/"
        },
        "id": "ILAwY1zYGUIW",
        "outputId": "853a43af-7fad-406e-ce84-f3f9cd05d17f"
      },
      "execution_count": 14,
      "outputs": [
        {
          "output_type": "execute_result",
          "data": {
            "text/plain": [
              "<tf.Tensor: shape=(2, 2), dtype=int32, numpy=\n",
              "array([[12, 13],\n",
              "       [14, 15]], dtype=int32)>"
            ]
          },
          "metadata": {},
          "execution_count": 14
        }
      ]
    },
    {
      "cell_type": "code",
      "source": [
        "X = tf.constant([[1,2],[2,3],[3,4]])\n",
        "X"
      ],
      "metadata": {
        "colab": {
          "base_uri": "https://localhost:8080/"
        },
        "id": "OslaxYNFGUE4",
        "outputId": "fd2eb220-b412-4b26-fd60-8cf5908eefdb"
      },
      "execution_count": 15,
      "outputs": [
        {
          "output_type": "execute_result",
          "data": {
            "text/plain": [
              "<tf.Tensor: shape=(3, 2), dtype=int32, numpy=\n",
              "array([[1, 2],\n",
              "       [2, 3],\n",
              "       [3, 4]], dtype=int32)>"
            ]
          },
          "metadata": {},
          "execution_count": 15
        }
      ]
    },
    {
      "cell_type": "code",
      "source": [
        "Y = tf.constant([[5,6,4,1],[6,7,5,5],[7,8,3,2]])\n",
        "Y"
      ],
      "metadata": {
        "colab": {
          "base_uri": "https://localhost:8080/"
        },
        "id": "W-x_1yGeGUB1",
        "outputId": "15c39572-6278-4b3a-a415-5495efbf2f9a"
      },
      "execution_count": 27,
      "outputs": [
        {
          "output_type": "execute_result",
          "data": {
            "text/plain": [
              "<tf.Tensor: shape=(3, 4), dtype=int32, numpy=\n",
              "array([[5, 6, 4, 1],\n",
              "       [6, 7, 5, 5],\n",
              "       [7, 8, 3, 2]], dtype=int32)>"
            ]
          },
          "metadata": {},
          "execution_count": 27
        }
      ]
    },
    {
      "cell_type": "markdown",
      "source": [
        "#✋ What is difference between Expand dims and reshape?\n",
        "Expand_dims – They increase the dimension of the tensor \n",
        "Reshape – it changes the shape of the tensor without increasing its dimension.\n",
        "Ex. (2,3) -> (3,2) \n"
      ],
      "metadata": {
        "id": "ZfkQoT7N5yqf"
      }
    },
    {
      "cell_type": "code",
      "source": [
        "Y = tf.reshape(Y, shape = (4,3))"
      ],
      "metadata": {
        "id": "ZXMNQflOGT69"
      },
      "execution_count": 34,
      "outputs": []
    },
    {
      "cell_type": "markdown",
      "source": [
        "# Transpose\n",
        "transpose only changes the orentation of the matrix the rows shifts to columns and columns to rows."
      ],
      "metadata": {
        "id": "kyp6o2xy6V-S"
      }
    },
    {
      "cell_type": "code",
      "source": [
        "tf.transpose(Y)"
      ],
      "metadata": {
        "colab": {
          "base_uri": "https://localhost:8080/"
        },
        "id": "Fg5l9OdMGTpI",
        "outputId": "65ec00ec-969b-4772-fc19-226701d2a2b3"
      },
      "execution_count": 31,
      "outputs": [
        {
          "output_type": "execute_result",
          "data": {
            "text/plain": [
              "<tf.Tensor: shape=(4, 3), dtype=int32, numpy=\n",
              "array([[5, 6, 7],\n",
              "       [6, 7, 8],\n",
              "       [4, 5, 3],\n",
              "       [1, 5, 2]], dtype=int32)>"
            ]
          },
          "metadata": {},
          "execution_count": 31
        }
      ]
    },
    {
      "cell_type": "code",
      "source": [
        "Y,X"
      ],
      "metadata": {
        "colab": {
          "base_uri": "https://localhost:8080/"
        },
        "id": "50Sv5R15GTlv",
        "outputId": "3fe51765-4d76-4006-e140-99926037cf71"
      },
      "execution_count": 35,
      "outputs": [
        {
          "output_type": "execute_result",
          "data": {
            "text/plain": [
              "(<tf.Tensor: shape=(4, 3), dtype=int32, numpy=\n",
              " array([[5, 6, 4],\n",
              "        [1, 6, 7],\n",
              "        [5, 5, 7],\n",
              "        [8, 3, 2]], dtype=int32)>,\n",
              " <tf.Tensor: shape=(3, 2), dtype=int32, numpy=\n",
              " array([[1, 2],\n",
              "        [2, 3],\n",
              "        [3, 4]], dtype=int32)>)"
            ]
          },
          "metadata": {},
          "execution_count": 35
        }
      ]
    },
    {
      "cell_type": "markdown",
      "source": [
        "# Matrix multiplication –\n",
        "**Matrix multiplication can be done using:**\n",
        "1.\t **Tf.matmul( )**\n",
        "2.\t **Tf.tensordot( )**\n"
      ],
      "metadata": {
        "id": "GrMIjanj6nA9"
      }
    },
    {
      "cell_type": "code",
      "source": [
        "tf.matmul(Y,X)"
      ],
      "metadata": {
        "colab": {
          "base_uri": "https://localhost:8080/"
        },
        "id": "Iku_ByY0GTh8",
        "outputId": "01220c1c-74d9-4d68-84ed-d5c422f7924c"
      },
      "execution_count": 39,
      "outputs": [
        {
          "output_type": "execute_result",
          "data": {
            "text/plain": [
              "<tf.Tensor: shape=(4, 2), dtype=int32, numpy=\n",
              "array([[29, 44],\n",
              "       [34, 48],\n",
              "       [36, 53],\n",
              "       [20, 33]], dtype=int32)>"
            ]
          },
          "metadata": {},
          "execution_count": 39
        }
      ]
    },
    {
      "cell_type": "code",
      "source": [
        "tf.tensordot(Y, X , axes=1)"
      ],
      "metadata": {
        "colab": {
          "base_uri": "https://localhost:8080/"
        },
        "id": "IsxlHisEGTer",
        "outputId": "7d5ddc7d-c02b-4139-e3e3-ed0d9ca73f09"
      },
      "execution_count": 40,
      "outputs": [
        {
          "output_type": "execute_result",
          "data": {
            "text/plain": [
              "<tf.Tensor: shape=(4, 2), dtype=int32, numpy=\n",
              "array([[29, 44],\n",
              "       [34, 48],\n",
              "       [36, 53],\n",
              "       [20, 33]], dtype=int32)>"
            ]
          },
          "metadata": {},
          "execution_count": 40
        }
      ]
    },
    {
      "cell_type": "code",
      "source": [
        "#Aggregation of tensors\n",
        "agg = tf.constant(np.random.randint(1,50, size=30))"
      ],
      "metadata": {
        "id": "Ue5V6oHwGTby"
      },
      "execution_count": 41,
      "outputs": []
    },
    {
      "cell_type": "code",
      "source": [
        "agg = tf.cast(agg, dtype=tf.float16)\n",
        "agg"
      ],
      "metadata": {
        "colab": {
          "base_uri": "https://localhost:8080/"
        },
        "id": "l7Q56FtwGTYb",
        "outputId": "eb4ba745-ca2b-4a4a-eb61-261e2056b5f7"
      },
      "execution_count": 55,
      "outputs": [
        {
          "output_type": "execute_result",
          "data": {
            "text/plain": [
              "<tf.Tensor: shape=(30,), dtype=float16, numpy=\n",
              "array([47.,  3., 27., 40., 24., 21., 49.,  5., 45.,  4., 46.,  4., 35.,\n",
              "       15., 40., 22., 49.,  9., 41., 48., 42., 31., 20., 36., 41., 46.,\n",
              "       33., 41., 15., 34.], dtype=float16)>"
            ]
          },
          "metadata": {},
          "execution_count": 55
        }
      ]
    },
    {
      "cell_type": "code",
      "source": [
        "# tf.reduce_min shows the minimum value of a tensor\n",
        "tf.reduce_min(agg)"
      ],
      "metadata": {
        "colab": {
          "base_uri": "https://localhost:8080/"
        },
        "id": "DBRgq2-vGTUv",
        "outputId": "35c295ba-e082-4a58-e98e-d23c46b648c4"
      },
      "execution_count": 47,
      "outputs": [
        {
          "output_type": "execute_result",
          "data": {
            "text/plain": [
              "<tf.Tensor: shape=(), dtype=float16, numpy=3.0>"
            ]
          },
          "metadata": {},
          "execution_count": 47
        }
      ]
    },
    {
      "cell_type": "code",
      "source": [
        "# tf.reduce_max finds the maximum vlaue of a tensor\n",
        "tf.reduce_max(agg)\n"
      ],
      "metadata": {
        "colab": {
          "base_uri": "https://localhost:8080/"
        },
        "id": "sfmDU97vGTQ5",
        "outputId": "1e7b5773-5ecf-4e90-8db6-ceede7495661"
      },
      "execution_count": 83,
      "outputs": [
        {
          "output_type": "execute_result",
          "data": {
            "text/plain": [
              "<tf.Tensor: shape=(), dtype=float16, numpy=49.0>"
            ]
          },
          "metadata": {},
          "execution_count": 83
        }
      ]
    },
    {
      "cell_type": "code",
      "source": [
        "# Shows the index at which the max value occours\n",
        "tf.argmax(agg)"
      ],
      "metadata": {
        "colab": {
          "base_uri": "https://localhost:8080/"
        },
        "id": "79yyb64roRRM",
        "outputId": "bdbc4c95-bda8-4878-9545-eaf5dcb40684"
      },
      "execution_count": 84,
      "outputs": [
        {
          "output_type": "execute_result",
          "data": {
            "text/plain": [
              "<tf.Tensor: shape=(), dtype=int64, numpy=6>"
            ]
          },
          "metadata": {},
          "execution_count": 84
        }
      ]
    },
    {
      "cell_type": "code",
      "source": [
        "# Find the mean \n",
        "tf.reduce_mean(agg)"
      ],
      "metadata": {
        "colab": {
          "base_uri": "https://localhost:8080/"
        },
        "id": "DoMvSFPLGTNI",
        "outputId": "6670d1df-0576-44e5-ead5-846b5de6226c"
      },
      "execution_count": 49,
      "outputs": [
        {
          "output_type": "execute_result",
          "data": {
            "text/plain": [
              "<tf.Tensor: shape=(), dtype=float16, numpy=30.44>"
            ]
          },
          "metadata": {},
          "execution_count": 49
        }
      ]
    },
    {
      "cell_type": "markdown",
      "source": [
        "# Variance and Standard deviation"
      ],
      "metadata": {
        "id": "7EeXlE_H67ql"
      }
    },
    {
      "cell_type": "code",
      "source": [
        "#Find variance of tensor\n",
        "\n",
        "import tensorflow_probability as tfp\n",
        "\n",
        "tfp.stats.variance(agg)"
      ],
      "metadata": {
        "colab": {
          "base_uri": "https://localhost:8080/"
        },
        "id": "3dbOF8m9GTI6",
        "outputId": "53f5dab2-21cb-4f6e-ae7b-84d996cb8b6d"
      },
      "execution_count": 51,
      "outputs": [
        {
          "output_type": "execute_result",
          "data": {
            "text/plain": [
              "<tf.Tensor: shape=(), dtype=float16, numpy=224.9>"
            ]
          },
          "metadata": {},
          "execution_count": 51
        }
      ]
    },
    {
      "cell_type": "code",
      "source": [
        "#Find the standard deviation\n",
        "\n",
        "tf.math.reduce_std(agg)"
      ],
      "metadata": {
        "colab": {
          "base_uri": "https://localhost:8080/"
        },
        "id": "yl2OB0wfGTEZ",
        "outputId": "d03eaf30-dda9-421e-b5cd-91a390d421b8"
      },
      "execution_count": 54,
      "outputs": [
        {
          "output_type": "execute_result",
          "data": {
            "text/plain": [
              "<tf.Tensor: shape=(), dtype=float16, numpy=14.99>"
            ]
          },
          "metadata": {},
          "execution_count": 54
        }
      ]
    },
    {
      "cell_type": "code",
      "source": [
        "# Positional minimum and maximum\n",
        "pos = tf.constant([[[9,8,3],[4,7,5],[6,2,1]]])\n",
        "pos"
      ],
      "metadata": {
        "colab": {
          "base_uri": "https://localhost:8080/"
        },
        "id": "Pq5jkBrolcZK",
        "outputId": "9362ed3d-59f1-4bf5-df5b-086de315f678"
      },
      "execution_count": 77,
      "outputs": [
        {
          "output_type": "execute_result",
          "data": {
            "text/plain": [
              "<tf.Tensor: shape=(1, 3, 3), dtype=int32, numpy=\n",
              "array([[[9, 8, 3],\n",
              "        [4, 7, 5],\n",
              "        [6, 2, 1]]], dtype=int32)>"
            ]
          },
          "metadata": {},
          "execution_count": 77
        }
      ]
    },
    {
      "cell_type": "code",
      "source": [
        "# Minimum of a tensor position\n",
        "\n",
        "tf.reduce_min(pos[:,1:2,:])"
      ],
      "metadata": {
        "colab": {
          "base_uri": "https://localhost:8080/"
        },
        "id": "tSSkzdXIlcVt",
        "outputId": "7835d5a0-af61-4911-b115-ca5a3b8f9fb3"
      },
      "execution_count": 78,
      "outputs": [
        {
          "output_type": "execute_result",
          "data": {
            "text/plain": [
              "<tf.Tensor: shape=(), dtype=int32, numpy=4>"
            ]
          },
          "metadata": {},
          "execution_count": 78
        }
      ]
    },
    {
      "cell_type": "code",
      "source": [
        "# Maximum of a tensor position\n",
        "\n",
        "tf.reduce_max(pos[:,2:3,:])"
      ],
      "metadata": {
        "colab": {
          "base_uri": "https://localhost:8080/"
        },
        "id": "7hsB1bGhlcO9",
        "outputId": "f7808402-8bde-4bcb-e03f-9a280d31b6b8"
      },
      "execution_count": 81,
      "outputs": [
        {
          "output_type": "execute_result",
          "data": {
            "text/plain": [
              "<tf.Tensor: shape=(), dtype=int32, numpy=6>"
            ]
          },
          "metadata": {},
          "execution_count": 81
        }
      ]
    },
    {
      "cell_type": "code",
      "source": [
        "# Squeezed\n",
        "tf.random.set_seed(32)\n",
        "\n",
        "sq = tf.constant(tf.random.uniform(shape=[30]), shape=(1,1,1,30))\n",
        "sq"
      ],
      "metadata": {
        "colab": {
          "base_uri": "https://localhost:8080/"
        },
        "id": "qeNYLlH7lcKJ",
        "outputId": "4fdde9b1-b9fb-4fb0-f7a3-37903c9c5ca8"
      },
      "execution_count": 88,
      "outputs": [
        {
          "output_type": "execute_result",
          "data": {
            "text/plain": [
              "<tf.Tensor: shape=(1, 1, 1, 30), dtype=float32, numpy=\n",
              "array([[[[0.54520595, 0.13372338, 0.45232666, 0.15582252, 0.9621073 ,\n",
              "          0.8151462 , 0.4068215 , 0.9565903 , 0.5532354 , 0.44936454,\n",
              "          0.01469815, 0.86204493, 0.12014258, 0.91072273, 0.00848019,\n",
              "          0.62772846, 0.8167286 , 0.98235905, 0.06410611, 0.17873585,\n",
              "          0.07358396, 0.95524645, 0.5906956 , 0.3774085 , 0.9427308 ,\n",
              "          0.32449841, 0.05033565, 0.6481848 , 0.97997856, 0.7848562 ]]]],\n",
              "      dtype=float32)>"
            ]
          },
          "metadata": {},
          "execution_count": 88
        }
      ]
    },
    {
      "cell_type": "code",
      "source": [
        "# tf.squeeze removes all the dimesions with value 1\n",
        "new_sq = tf.squeeze(sq)\n",
        "new_sq"
      ],
      "metadata": {
        "colab": {
          "base_uri": "https://localhost:8080/"
        },
        "id": "9x4gcy_4lcFh",
        "outputId": "7275f107-2e84-4688-bc0a-952261b9b2f6"
      },
      "execution_count": 89,
      "outputs": [
        {
          "output_type": "execute_result",
          "data": {
            "text/plain": [
              "<tf.Tensor: shape=(30,), dtype=float32, numpy=\n",
              "array([0.54520595, 0.13372338, 0.45232666, 0.15582252, 0.9621073 ,\n",
              "       0.8151462 , 0.4068215 , 0.9565903 , 0.5532354 , 0.44936454,\n",
              "       0.01469815, 0.86204493, 0.12014258, 0.91072273, 0.00848019,\n",
              "       0.62772846, 0.8167286 , 0.98235905, 0.06410611, 0.17873585,\n",
              "       0.07358396, 0.95524645, 0.5906956 , 0.3774085 , 0.9427308 ,\n",
              "       0.32449841, 0.05033565, 0.6481848 , 0.97997856, 0.7848562 ],\n",
              "      dtype=float32)>"
            ]
          },
          "metadata": {},
          "execution_count": 89
        }
      ]
    },
    {
      "cell_type": "markdown",
      "source": [
        "# One-Hot Encoding"
      ],
      "metadata": {
        "id": "ag_PkUwj7F2Y"
      }
    },
    {
      "cell_type": "code",
      "source": [
        "# One hot encoding with tensors\n",
        "my_list = [2,3,4,5]\n",
        "\n",
        "#one hot encoded\n",
        "tf.one_hot(my_list, depth=6)# depth starts form 0 index"
      ],
      "metadata": {
        "colab": {
          "base_uri": "https://localhost:8080/"
        },
        "id": "su-eDptTlcBV",
        "outputId": "a7038fcd-a770-4ecd-df26-838563150a46"
      },
      "execution_count": 91,
      "outputs": [
        {
          "output_type": "execute_result",
          "data": {
            "text/plain": [
              "<tf.Tensor: shape=(4, 6), dtype=float32, numpy=\n",
              "array([[0., 0., 1., 0., 0., 0.],\n",
              "       [0., 0., 0., 1., 0., 0.],\n",
              "       [0., 0., 0., 0., 1., 0.],\n",
              "       [0., 0., 0., 0., 0., 1.]], dtype=float32)>"
            ]
          },
          "metadata": {},
          "execution_count": 91
        }
      ]
    },
    {
      "cell_type": "code",
      "source": [
        ""
      ],
      "metadata": {
        "id": "KaS4shy17L4v"
      },
      "execution_count": null,
      "outputs": []
    },
    {
      "cell_type": "code",
      "source": [
        ""
      ],
      "metadata": {
        "id": "G2cej1YMlb8h"
      },
      "execution_count": null,
      "outputs": []
    },
    {
      "cell_type": "code",
      "source": [
        ""
      ],
      "metadata": {
        "id": "7uNlRpjslb5U"
      },
      "execution_count": null,
      "outputs": []
    },
    {
      "cell_type": "code",
      "source": [
        ""
      ],
      "metadata": {
        "id": "7m0oEB8albz7"
      },
      "execution_count": null,
      "outputs": []
    },
    {
      "cell_type": "code",
      "source": [
        ""
      ],
      "metadata": {
        "id": "RrtTgioOlbvm"
      },
      "execution_count": null,
      "outputs": []
    },
    {
      "cell_type": "code",
      "source": [
        ""
      ],
      "metadata": {
        "id": "KhUIYmjIlbp7"
      },
      "execution_count": null,
      "outputs": []
    },
    {
      "cell_type": "code",
      "source": [
        ""
      ],
      "metadata": {
        "id": "hu9_MJD8lbmL"
      },
      "execution_count": null,
      "outputs": []
    },
    {
      "cell_type": "code",
      "source": [
        ""
      ],
      "metadata": {
        "id": "1lylHIUJlbhE"
      },
      "execution_count": null,
      "outputs": []
    }
  ]
}