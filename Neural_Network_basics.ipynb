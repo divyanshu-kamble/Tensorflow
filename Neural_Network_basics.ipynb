{
  "nbformat": 4,
  "nbformat_minor": 0,
  "metadata": {
    "colab": {
      "name": "Neural_Network basics.ipynb",
      "provenance": []
    },
    "kernelspec": {
      "name": "python3",
      "display_name": "Python 3"
    },
    "language_info": {
      "name": "python"
    }
  },
  "cells": [
    {
      "cell_type": "code",
      "execution_count": 1,
      "metadata": {
        "colab": {
          "base_uri": "https://localhost:8080/"
        },
        "id": "4AI-zwKSw6PW",
        "outputId": "86c8a0bd-a33c-455d-e5b6-716002f2a993"
      },
      "outputs": [
        {
          "output_type": "stream",
          "name": "stdout",
          "text": [
            "2.8.2\n"
          ]
        }
      ],
      "source": [
        "import tensorflow as tf\n",
        "print(tf.__version__)"
      ]
    },
    {
      "cell_type": "code",
      "source": [
        "import numpy as np\n",
        "import matplotlib.pyplot as plt\n",
        "\n",
        "# Create features\n",
        "X = tf.constant([2.0, 4.0, 6.0, 8.0, 10.0, 12.0, 14.0, 16.0, 18.0])\n",
        "\n",
        "# Create labels\n",
        "y = tf.constant([3.0, 6.0, 9.0, 12.0, 15.0, 18.0, 21.0, 24.0, 27.0])\n",
        "\n",
        "# Visualize it\n",
        "plt.scatter(X, y);"
      ],
      "metadata": {
        "colab": {
          "base_uri": "https://localhost:8080/",
          "height": 265
        },
        "id": "BPKUpj_1egWB",
        "outputId": "34857be1-da05-4f52-b772-bfd3c9068d28"
      },
      "execution_count": 2,
      "outputs": [
        {
          "output_type": "display_data",
          "data": {
            "text/plain": [
              "<Figure size 432x288 with 1 Axes>"
            ],
            "image/png": "[encoded data removed]"
          },
          "metadata": {
            "needs_background": "light"
          }
        }
      ]
    },
    {
      "cell_type": "code",
      "source": [
        "input_shape = X[0].shape \n",
        "\n",
        "\n",
        "output_shape = y[0].shape\n",
        "\n",
        "input_shape, output_shape"
      ],
      "metadata": {
        "colab": {
          "base_uri": "https://localhost:8080/"
        },
        "id": "Yie6aS3cegYg",
        "outputId": "c71dd99a-5aa1-4b73-e32c-be15b5c49384"
      },
      "execution_count": 3,
      "outputs": [
        {
          "output_type": "execute_result",
          "data": {
            "text/plain": [
              "(TensorShape([]), TensorShape([]))"
            ]
          },
          "metadata": {},
          "execution_count": 3
        }
      ]
    },
    {
      "cell_type": "code",
      "source": [
        "X[0], y[0]"
      ],
      "metadata": {
        "colab": {
          "base_uri": "https://localhost:8080/"
        },
        "id": "G1cUHiu0egbJ",
        "outputId": "408a823e-8caa-4cd6-8d88-9177f5c80c07"
      },
      "execution_count": 4,
      "outputs": [
        {
          "output_type": "execute_result",
          "data": {
            "text/plain": [
              "(<tf.Tensor: shape=(), dtype=float32, numpy=2.0>,\n",
              " <tf.Tensor: shape=(), dtype=float32, numpy=3.0>)"
            ]
          },
          "metadata": {},
          "execution_count": 4
        }
      ]
    },
    {
      "cell_type": "code",
      "source": [
        "tf.random.set_seed(42)\n",
        "\n",
        "# creating model using the Sequential API\n",
        "model = tf.keras.Sequential([\n",
        "  tf.keras.layers.Dense(1)\n",
        "])\n",
        "\n",
        "# Compile the model\n",
        "model.compile(loss=tf.keras.losses.mae, # mae is short for mean absolute error\n",
        "              optimizer=tf.keras.optimizers.SGD(), # SGD is short for stochastic gradient descent\n",
        "              metrics=[\"mae\"])\n",
        "\n",
        "# Fit the model\n",
        "model.fit(tf.expand_dims(X, axis=-1), y, epochs=5)"
      ],
      "metadata": {
        "colab": {
          "base_uri": "https://localhost:8080/"
        },
        "id": "s9UQVMWVegds",
        "outputId": "e17f8a68-223c-41cb-f1d0-9333b9827931"
      },
      "execution_count": 5,
      "outputs": [
        {
          "output_type": "stream",
          "name": "stdout",
          "text": [
            "Epoch 1/5\n",
            "1/1 [==============================] - 0s 472ms/step - loss: 9.2994 - mae: 9.2994\n",
            "Epoch 2/5\n",
            "1/1 [==============================] - 0s 7ms/step - loss: 8.2894 - mae: 8.2894\n",
            "Epoch 3/5\n",
            "1/1 [==============================] - 0s 9ms/step - loss: 7.2794 - mae: 7.2794\n",
            "Epoch 4/5\n",
            "1/1 [==============================] - 0s 7ms/step - loss: 6.2694 - mae: 6.2694\n",
            "Epoch 5/5\n",
            "1/1 [==============================] - 0s 16ms/step - loss: 5.2594 - mae: 5.2594\n"
          ]
        },
        {
          "output_type": "execute_result",
          "data": {
            "text/plain": [
              "<keras.callbacks.History at 0x7f14829a2610>"
            ]
          },
          "metadata": {},
          "execution_count": 5
        }
      ]
    },
    {
      "cell_type": "code",
      "source": [
        "model.predict([20.0])"
      ],
      "metadata": {
        "colab": {
          "base_uri": "https://localhost:8080/"
        },
        "id": "L-ZleyXoegjE",
        "outputId": "9b612e33-cf55-4154-84f7-e2ade8c6a421"
      },
      "execution_count": 6,
      "outputs": [
        {
          "output_type": "execute_result",
          "data": {
            "text/plain": [
              "array([[21.451199]], dtype=float32)"
            ]
          },
          "metadata": {},
          "execution_count": 6
        }
      ]
    },
    {
      "cell_type": "markdown",
      "source": [
        "# The above predicted is showing the value to be 21.45 but it should be 30 \n",
        "therefore the model should be trained more or with more data\n"
      ],
      "metadata": {
        "id": "K13x2ofxg6-V"
      }
    },
    {
      "cell_type": "markdown",
      "source": [
        "# Improving a model\n",
        "\n",
        "1. increasing the number of epochs\n",
        "\n"
      ],
      "metadata": {
        "id": "X5DMX9hF0N_-"
      }
    },
    {
      "cell_type": "code",
      "source": [
        "tf.random.set_seed(42)\n",
        "\n",
        "# Create a model \n",
        "model1 = tf.keras.Sequential([\n",
        "  tf.keras.layers.Dense(1)\n",
        "])\n",
        "\n",
        "# Compile model\n",
        "model1.compile(loss=tf.keras.losses.mae,\n",
        "              optimizer=tf.keras.optimizers.SGD(),\n",
        "              metrics=[\"mae\"])\n",
        "\n",
        "# Fit model with more epochs\n",
        "model1.fit(tf.expand_dims(X, axis=-1), y, epochs=100)"
      ],
      "metadata": {
        "colab": {
          "base_uri": "https://localhost:8080/"
        },
        "id": "VBiirL9megls",
        "outputId": "7fda2b1b-7ac3-4986-c346-98eb18f26558"
      },
      "execution_count": 8,
      "outputs": [
        {
          "output_type": "stream",
          "name": "stdout",
          "text": [
            "Epoch 1/100\n",
            "1/1 [==============================] - 0s 465ms/step - loss: 9.2994 - mae: 9.2994\n",
            "Epoch 2/100\n",
            "1/1 [==============================] - 0s 12ms/step - loss: 8.2894 - mae: 8.2894\n",
            "Epoch 3/100\n",
            "1/1 [==============================] - 0s 26ms/step - loss: 7.2794 - mae: 7.2794\n",
            "Epoch 4/100\n",
            "1/1 [==============================] - 0s 13ms/step - loss: 6.2694 - mae: 6.2694\n",
            "Epoch 5/100\n",
            "1/1 [==============================] - 0s 26ms/step - loss: 5.2594 - mae: 5.2594\n",
            "Epoch 6/100\n",
            "1/1 [==============================] - 0s 19ms/step - loss: 4.2494 - mae: 4.2494\n",
            "Epoch 7/100\n",
            "1/1 [==============================] - 0s 14ms/step - loss: 3.2394 - mae: 3.2394\n",
            "Epoch 8/100\n",
            "1/1 [==============================] - 0s 11ms/step - loss: 2.2294 - mae: 2.2294\n",
            "Epoch 9/100\n",
            "1/1 [==============================] - 0s 17ms/step - loss: 1.2194 - mae: 1.2194\n",
            "Epoch 10/100\n",
            "1/1 [==============================] - 0s 13ms/step - loss: 0.2161 - mae: 0.2161\n",
            "Epoch 11/100\n",
            "1/1 [==============================] - 0s 12ms/step - loss: 0.7539 - mae: 0.7539\n",
            "Epoch 12/100\n",
            "1/1 [==============================] - 0s 12ms/step - loss: 0.2603 - mae: 0.2603\n",
            "Epoch 13/100\n",
            "1/1 [==============================] - 0s 12ms/step - loss: 0.7073 - mae: 0.7073\n",
            "Epoch 14/100\n",
            "1/1 [==============================] - 0s 12ms/step - loss: 0.3045 - mae: 0.3045\n",
            "Epoch 15/100\n",
            "1/1 [==============================] - 0s 13ms/step - loss: 0.6606 - mae: 0.6606\n",
            "Epoch 16/100\n",
            "1/1 [==============================] - 0s 27ms/step - loss: 0.3494 - mae: 0.3494\n",
            "Epoch 17/100\n",
            "1/1 [==============================] - 0s 14ms/step - loss: 0.6606 - mae: 0.6606\n",
            "Epoch 18/100\n",
            "1/1 [==============================] - 0s 13ms/step - loss: 0.3494 - mae: 0.3494\n",
            "Epoch 19/100\n",
            "1/1 [==============================] - 0s 12ms/step - loss: 0.6606 - mae: 0.6606\n",
            "Epoch 20/100\n",
            "1/1 [==============================] - 0s 12ms/step - loss: 0.3494 - mae: 0.3494\n",
            "Epoch 21/100\n",
            "1/1 [==============================] - 0s 13ms/step - loss: 0.6606 - mae: 0.6606\n",
            "Epoch 22/100\n",
            "1/1 [==============================] - 0s 13ms/step - loss: 0.3494 - mae: 0.3494\n",
            "Epoch 23/100\n",
            "1/1 [==============================] - 0s 6ms/step - loss: 0.6606 - mae: 0.6606\n",
            "Epoch 24/100\n",
            "1/1 [==============================] - 0s 16ms/step - loss: 0.3494 - mae: 0.3494\n",
            "Epoch 25/100\n",
            "1/1 [==============================] - 0s 14ms/step - loss: 0.6606 - mae: 0.6606\n",
            "Epoch 26/100\n",
            "1/1 [==============================] - 0s 35ms/step - loss: 0.3494 - mae: 0.3494\n",
            "Epoch 27/100\n",
            "1/1 [==============================] - 0s 12ms/step - loss: 0.6606 - mae: 0.6606\n",
            "Epoch 28/100\n",
            "1/1 [==============================] - 0s 20ms/step - loss: 0.3494 - mae: 0.3494\n",
            "Epoch 29/100\n",
            "1/1 [==============================] - 0s 24ms/step - loss: 0.6606 - mae: 0.6606\n",
            "Epoch 30/100\n",
            "1/1 [==============================] - 0s 32ms/step - loss: 0.3494 - mae: 0.3494\n",
            "Epoch 31/100\n",
            "1/1 [==============================] - 0s 21ms/step - loss: 0.6606 - mae: 0.6606\n",
            "Epoch 32/100\n",
            "1/1 [==============================] - 0s 14ms/step - loss: 0.3494 - mae: 0.3494\n",
            "Epoch 33/100\n",
            "1/1 [==============================] - 0s 13ms/step - loss: 0.6606 - mae: 0.6606\n",
            "Epoch 34/100\n",
            "1/1 [==============================] - 0s 13ms/step - loss: 0.3494 - mae: 0.3494\n",
            "Epoch 35/100\n",
            "1/1 [==============================] - 0s 23ms/step - loss: 0.6606 - mae: 0.6606\n",
            "Epoch 36/100\n",
            "1/1 [==============================] - 0s 15ms/step - loss: 0.3494 - mae: 0.3494\n",
            "Epoch 37/100\n",
            "1/1 [==============================] - 0s 17ms/step - loss: 0.6606 - mae: 0.6606\n",
            "Epoch 38/100\n",
            "1/1 [==============================] - 0s 24ms/step - loss: 0.3494 - mae: 0.3494\n",
            "Epoch 39/100\n",
            "1/1 [==============================] - 0s 9ms/step - loss: 0.6606 - mae: 0.6606\n",
            "Epoch 40/100\n",
            "1/1 [==============================] - 0s 27ms/step - loss: 0.3494 - mae: 0.3494\n",
            "Epoch 41/100\n",
            "1/1 [==============================] - 0s 11ms/step - loss: 0.6606 - mae: 0.6606\n",
            "Epoch 42/100\n",
            "1/1 [==============================] - 0s 11ms/step - loss: 0.3494 - mae: 0.3494\n",
            "Epoch 43/100\n",
            "1/1 [==============================] - 0s 21ms/step - loss: 0.6606 - mae: 0.6606\n",
            "Epoch 44/100\n",
            "1/1 [==============================] - 0s 19ms/step - loss: 0.3494 - mae: 0.3494\n",
            "Epoch 45/100\n",
            "1/1 [==============================] - 0s 13ms/step - loss: 0.6606 - mae: 0.6606\n",
            "Epoch 46/100\n",
            "1/1 [==============================] - 0s 13ms/step - loss: 0.3494 - mae: 0.3494\n",
            "Epoch 47/100\n",
            "1/1 [==============================] - 0s 14ms/step - loss: 0.6606 - mae: 0.6606\n",
            "Epoch 48/100\n",
            "1/1 [==============================] - 0s 19ms/step - loss: 0.3494 - mae: 0.3494\n",
            "Epoch 49/100\n",
            "1/1 [==============================] - 0s 14ms/step - loss: 0.6606 - mae: 0.6606\n",
            "Epoch 50/100\n",
            "1/1 [==============================] - 0s 18ms/step - loss: 0.3494 - mae: 0.3494\n",
            "Epoch 51/100\n",
            "1/1 [==============================] - 0s 15ms/step - loss: 0.6606 - mae: 0.6606\n",
            "Epoch 52/100\n",
            "1/1 [==============================] - 0s 14ms/step - loss: 0.3494 - mae: 0.3494\n",
            "Epoch 53/100\n",
            "1/1 [==============================] - 0s 13ms/step - loss: 0.6606 - mae: 0.6606\n",
            "Epoch 54/100\n",
            "1/1 [==============================] - 0s 14ms/step - loss: 0.3494 - mae: 0.3494\n",
            "Epoch 55/100\n",
            "1/1 [==============================] - 0s 14ms/step - loss: 0.6606 - mae: 0.6606\n",
            "Epoch 56/100\n",
            "1/1 [==============================] - 0s 13ms/step - loss: 0.3494 - mae: 0.3494\n",
            "Epoch 57/100\n",
            "1/1 [==============================] - 0s 13ms/step - loss: 0.6606 - mae: 0.6606\n",
            "Epoch 58/100\n",
            "1/1 [==============================] - 0s 14ms/step - loss: 0.3494 - mae: 0.3494\n",
            "Epoch 59/100\n",
            "1/1 [==============================] - 0s 14ms/step - loss: 0.6606 - mae: 0.6606\n",
            "Epoch 60/100\n",
            "1/1 [==============================] - 0s 14ms/step - loss: 0.3494 - mae: 0.3494\n",
            "Epoch 61/100\n",
            "1/1 [==============================] - 0s 14ms/step - loss: 0.6606 - mae: 0.6606\n",
            "Epoch 62/100\n",
            "1/1 [==============================] - 0s 14ms/step - loss: 0.3494 - mae: 0.3494\n",
            "Epoch 63/100\n",
            "1/1 [==============================] - 0s 11ms/step - loss: 0.6606 - mae: 0.6606\n",
            "Epoch 64/100\n",
            "1/1 [==============================] - 0s 11ms/step - loss: 0.3494 - mae: 0.3494\n",
            "Epoch 65/100\n",
            "1/1 [==============================] - 0s 11ms/step - loss: 0.6606 - mae: 0.6606\n",
            "Epoch 66/100\n",
            "1/1 [==============================] - 0s 11ms/step - loss: 0.3494 - mae: 0.3494\n",
            "Epoch 67/100\n",
            "1/1 [==============================] - 0s 39ms/step - loss: 0.6606 - mae: 0.6606\n",
            "Epoch 68/100\n",
            "1/1 [==============================] - 0s 11ms/step - loss: 0.3494 - mae: 0.3494\n",
            "Epoch 69/100\n",
            "1/1 [==============================] - 0s 20ms/step - loss: 0.6606 - mae: 0.6606\n",
            "Epoch 70/100\n",
            "1/1 [==============================] - 0s 19ms/step - loss: 0.3494 - mae: 0.3494\n",
            "Epoch 71/100\n",
            "1/1 [==============================] - 0s 8ms/step - loss: 0.6606 - mae: 0.6606\n",
            "Epoch 72/100\n",
            "1/1 [==============================] - 0s 8ms/step - loss: 0.3494 - mae: 0.3494\n",
            "Epoch 73/100\n",
            "1/1 [==============================] - 0s 9ms/step - loss: 0.6606 - mae: 0.6606\n",
            "Epoch 74/100\n",
            "1/1 [==============================] - 0s 10ms/step - loss: 0.3494 - mae: 0.3494\n",
            "Epoch 75/100\n",
            "1/1 [==============================] - 0s 9ms/step - loss: 0.6606 - mae: 0.6606\n",
            "Epoch 76/100\n",
            "1/1 [==============================] - 0s 9ms/step - loss: 0.3494 - mae: 0.3494\n",
            "Epoch 77/100\n",
            "1/1 [==============================] - 0s 9ms/step - loss: 0.6606 - mae: 0.6606\n",
            "Epoch 78/100\n",
            "1/1 [==============================] - 0s 11ms/step - loss: 0.3494 - mae: 0.3494\n",
            "Epoch 79/100\n",
            "1/1 [==============================] - 0s 11ms/step - loss: 0.6606 - mae: 0.6606\n",
            "Epoch 80/100\n",
            "1/1 [==============================] - 0s 9ms/step - loss: 0.3494 - mae: 0.3494\n",
            "Epoch 81/100\n",
            "1/1 [==============================] - 0s 10ms/step - loss: 0.6606 - mae: 0.6606\n",
            "Epoch 82/100\n",
            "1/1 [==============================] - 0s 9ms/step - loss: 0.3494 - mae: 0.3494\n",
            "Epoch 83/100\n",
            "1/1 [==============================] - 0s 7ms/step - loss: 0.6606 - mae: 0.6606\n",
            "Epoch 84/100\n",
            "1/1 [==============================] - 0s 6ms/step - loss: 0.3494 - mae: 0.3494\n",
            "Epoch 85/100\n",
            "1/1 [==============================] - 0s 7ms/step - loss: 0.6606 - mae: 0.6606\n",
            "Epoch 86/100\n",
            "1/1 [==============================] - 0s 6ms/step - loss: 0.3494 - mae: 0.3494\n",
            "Epoch 87/100\n",
            "1/1 [==============================] - 0s 6ms/step - loss: 0.6606 - mae: 0.6606\n",
            "Epoch 88/100\n",
            "1/1 [==============================] - 0s 9ms/step - loss: 0.3494 - mae: 0.3494\n",
            "Epoch 89/100\n",
            "1/1 [==============================] - 0s 9ms/step - loss: 0.6606 - mae: 0.6606\n",
            "Epoch 90/100\n",
            "1/1 [==============================] - 0s 8ms/step - loss: 0.3494 - mae: 0.3494\n",
            "Epoch 91/100\n",
            "1/1 [==============================] - 0s 8ms/step - loss: 0.6606 - mae: 0.6606\n",
            "Epoch 92/100\n",
            "1/1 [==============================] - 0s 12ms/step - loss: 0.3494 - mae: 0.3494\n",
            "Epoch 93/100\n",
            "1/1 [==============================] - 0s 8ms/step - loss: 0.6606 - mae: 0.6606\n",
            "Epoch 94/100\n",
            "1/1 [==============================] - 0s 13ms/step - loss: 0.3494 - mae: 0.3494\n",
            "Epoch 95/100\n",
            "1/1 [==============================] - 0s 16ms/step - loss: 0.6606 - mae: 0.6606\n",
            "Epoch 96/100\n",
            "1/1 [==============================] - 0s 8ms/step - loss: 0.3494 - mae: 0.3494\n",
            "Epoch 97/100\n",
            "1/1 [==============================] - 0s 6ms/step - loss: 0.6606 - mae: 0.6606\n",
            "Epoch 98/100\n",
            "1/1 [==============================] - 0s 7ms/step - loss: 0.3494 - mae: 0.3494\n",
            "Epoch 99/100\n",
            "1/1 [==============================] - 0s 9ms/step - loss: 0.6606 - mae: 0.6606\n",
            "Epoch 100/100\n",
            "1/1 [==============================] - 0s 7ms/step - loss: 0.3494 - mae: 0.3494\n"
          ]
        },
        {
          "output_type": "execute_result",
          "data": {
            "text/plain": [
              "<keras.callbacks.History at 0x7f14815a0250>"
            ]
          },
          "metadata": {},
          "execution_count": 8
        }
      ]
    },
    {
      "cell_type": "code",
      "source": [
        "# predicting \n",
        "model1.predict([20.0])"
      ],
      "metadata": {
        "colab": {
          "base_uri": "https://localhost:8080/"
        },
        "id": "C2ds9V8negoR",
        "outputId": "26ac300f-ee32-452b-a4d4-5d5312117ede"
      },
      "execution_count": 9,
      "outputs": [
        {
          "output_type": "execute_result",
          "data": {
            "text/plain": [
              "array([[31.227867]], dtype=float32)"
            ]
          },
          "metadata": {},
          "execution_count": 9
        }
      ]
    },
    {
      "cell_type": "markdown",
      "source": [
        "**This time the model prediction is better**\n"
      ],
      "metadata": {
        "id": "Tb-33x0z1T8K"
      }
    },
    {
      "cell_type": "code",
      "source": [
        ""
      ],
      "metadata": {
        "id": "MLnMLD-regrP"
      },
      "execution_count": null,
      "outputs": []
    },
    {
      "cell_type": "markdown",
      "source": [
        "# Creating a new dataset"
      ],
      "metadata": {
        "id": "YcjZDzv21jd7"
      }
    },
    {
      "cell_type": "code",
      "source": [
        "X = np.arange(-100, 100, 5)\n",
        "X"
      ],
      "metadata": {
        "colab": {
          "base_uri": "https://localhost:8080/"
        },
        "id": "VuD8cV6veguC",
        "outputId": "c952860b-9748-46cc-95c0-7d939fc6204f"
      },
      "execution_count": 11,
      "outputs": [
        {
          "output_type": "execute_result",
          "data": {
            "text/plain": [
              "array([-100,  -95,  -90,  -85,  -80,  -75,  -70,  -65,  -60,  -55,  -50,\n",
              "        -45,  -40,  -35,  -30,  -25,  -20,  -15,  -10,   -5,    0,    5,\n",
              "         10,   15,   20,   25,   30,   35,   40,   45,   50,   55,   60,\n",
              "         65,   70,   75,   80,   85,   90,   95])"
            ]
          },
          "metadata": {},
          "execution_count": 11
        }
      ]
    },
    {
      "cell_type": "code",
      "source": [
        "y = np.arange(-90, 110, 5)\n",
        "y"
      ],
      "metadata": {
        "colab": {
          "base_uri": "https://localhost:8080/"
        },
        "id": "n5ImzwMyegw1",
        "outputId": "9a7ada43-e3cb-43d3-8e40-4ca75f068afa"
      },
      "execution_count": 12,
      "outputs": [
        {
          "output_type": "execute_result",
          "data": {
            "text/plain": [
              "array([-90, -85, -80, -75, -70, -65, -60, -55, -50, -45, -40, -35, -30,\n",
              "       -25, -20, -15, -10,  -5,   0,   5,  10,  15,  20,  25,  30,  35,\n",
              "        40,  45,  50,  55,  60,  65,  70,  75,  80,  85,  90,  95, 100,\n",
              "       105])"
            ]
          },
          "metadata": {},
          "execution_count": 12
        }
      ]
    },
    {
      "cell_type": "code",
      "source": [
        "X_train = X[:30] #(80% of data)\n",
        "y_train = y[:30]\n",
        "\n",
        "X_test = X[30:] #(20% of data)\n",
        "y_test = y[30:]\n",
        "\n",
        "len(X_train), len(X_test)"
      ],
      "metadata": {
        "colab": {
          "base_uri": "https://localhost:8080/"
        },
        "id": "3DysrU2begzi",
        "outputId": "b5deddc4-c1cf-481d-8786-3037e8cd402f"
      },
      "execution_count": 18,
      "outputs": [
        {
          "output_type": "execute_result",
          "data": {
            "text/plain": [
              "(30, 10)"
            ]
          },
          "metadata": {},
          "execution_count": 18
        }
      ]
    },
    {
      "cell_type": "code",
      "source": [
        "len(X)"
      ],
      "metadata": {
        "colab": {
          "base_uri": "https://localhost:8080/"
        },
        "id": "aamCm-jzeg2X",
        "outputId": "15eb298c-1210-4ecb-a79d-46f745a9253e"
      },
      "execution_count": 16,
      "outputs": [
        {
          "output_type": "execute_result",
          "data": {
            "text/plain": [
              "40"
            ]
          },
          "metadata": {},
          "execution_count": 16
        }
      ]
    },
    {
      "cell_type": "markdown",
      "source": [
        "# Visualizing the data"
      ],
      "metadata": {
        "id": "jdFzOduR29nZ"
      }
    },
    {
      "cell_type": "code",
      "source": [
        "plt.figure(figsize=(10, 7))\n",
        "# Plot training data in blue\n",
        "plt.scatter(X_train, y_train, c='b', label='Training data')\n",
        "# Plot test data in green\n",
        "plt.scatter(X_test, y_test, c='g', label='Testing data')\n",
        "# Show the legend\n",
        "plt.legend();"
      ],
      "metadata": {
        "colab": {
          "base_uri": "https://localhost:8080/",
          "height": 428
        },
        "id": "jDMVk6fCeg44",
        "outputId": "3be3dffe-13f7-4030-9988-d88d7cf1b7cc"
      },
      "execution_count": 19,
      "outputs": [
        {
          "output_type": "display_data",
          "data": {
            "text/plain": [
              "<Figure size 720x504 with 1 Axes>"
            ],
            "image/png": "[encoded data removed]"
          },
          "metadata": {
            "needs_background": "light"
          }
        }
      ]
    },
    {
      "cell_type": "code",
      "source": [
        "tf.random.set_seed(42)\n",
        "\n",
        "# Create a model (same as above)\n",
        "model_1 = tf.keras.Sequential([\n",
        "  tf.keras.layers.Dense(1,input_shape=[1])\n",
        "  ])\n",
        "\n",
        "# Compile model (same as above)\n",
        "model_1.compile(loss=tf.keras.losses.mae,\n",
        "              optimizer=tf.keras.optimizers.SGD(),\n",
        "              metrics=[\"mae\"])\n",
        "\n",
        "model_1.fit(X_train, y_train, epochs=100)"
      ],
      "metadata": {
        "colab": {
          "base_uri": "https://localhost:8080/"
        },
        "id": "8YeBC-eoeg8a",
        "outputId": "5c4338bd-ef9b-4977-9935-5a9d3f6a52b7"
      },
      "execution_count": 23,
      "outputs": [
        {
          "output_type": "stream",
          "name": "stdout",
          "text": [
            "Epoch 1/100\n",
            "1/1 [==============================] - 0s 257ms/step - loss: 16.1727 - mae: 16.1727\n",
            "Epoch 2/100\n",
            "1/1 [==============================] - 0s 6ms/step - loss: 8.9481 - mae: 8.9481\n",
            "Epoch 3/100\n",
            "1/1 [==============================] - 0s 5ms/step - loss: 11.7873 - mae: 11.7873\n",
            "Epoch 4/100\n",
            "1/1 [==============================] - 0s 4ms/step - loss: 11.1375 - mae: 11.1375\n",
            "Epoch 5/100\n",
            "1/1 [==============================] - 0s 4ms/step - loss: 9.1108 - mae: 9.1108\n",
            "Epoch 6/100\n",
            "1/1 [==============================] - 0s 4ms/step - loss: 11.9505 - mae: 11.9505\n",
            "Epoch 7/100\n",
            "1/1 [==============================] - 0s 4ms/step - loss: 8.2481 - mae: 8.2481\n",
            "Epoch 8/100\n",
            "1/1 [==============================] - 0s 5ms/step - loss: 11.9378 - mae: 11.9378\n",
            "Epoch 9/100\n",
            "1/1 [==============================] - 0s 5ms/step - loss: 8.2448 - mae: 8.2448\n",
            "Epoch 10/100\n",
            "1/1 [==============================] - 0s 16ms/step - loss: 11.9252 - mae: 11.9252\n",
            "Epoch 11/100\n",
            "1/1 [==============================] - 0s 13ms/step - loss: 8.2414 - mae: 8.2414\n",
            "Epoch 12/100\n",
            "1/1 [==============================] - 0s 5ms/step - loss: 11.9125 - mae: 11.9125\n",
            "Epoch 13/100\n",
            "1/1 [==============================] - 0s 5ms/step - loss: 8.2380 - mae: 8.2380\n",
            "Epoch 14/100\n",
            "1/1 [==============================] - 0s 6ms/step - loss: 11.8998 - mae: 11.8998\n",
            "Epoch 15/100\n",
            "1/1 [==============================] - 0s 5ms/step - loss: 8.2346 - mae: 8.2346\n",
            "Epoch 16/100\n",
            "1/1 [==============================] - 0s 5ms/step - loss: 11.8872 - mae: 11.8872\n",
            "Epoch 17/100\n",
            "1/1 [==============================] - 0s 5ms/step - loss: 8.2313 - mae: 8.2313\n",
            "Epoch 18/100\n",
            "1/1 [==============================] - 0s 6ms/step - loss: 11.8745 - mae: 11.8745\n",
            "Epoch 19/100\n",
            "1/1 [==============================] - 0s 11ms/step - loss: 8.2279 - mae: 8.2279\n",
            "Epoch 20/100\n",
            "1/1 [==============================] - 0s 10ms/step - loss: 11.8618 - mae: 11.8618\n",
            "Epoch 21/100\n",
            "1/1 [==============================] - 0s 16ms/step - loss: 8.2245 - mae: 8.2245\n",
            "Epoch 22/100\n",
            "1/1 [==============================] - 0s 13ms/step - loss: 11.8492 - mae: 11.8492\n",
            "Epoch 23/100\n",
            "1/1 [==============================] - 0s 7ms/step - loss: 8.2211 - mae: 8.2211\n",
            "Epoch 24/100\n",
            "1/1 [==============================] - 0s 7ms/step - loss: 11.8365 - mae: 11.8365\n",
            "Epoch 25/100\n",
            "1/1 [==============================] - 0s 7ms/step - loss: 8.2177 - mae: 8.2177\n",
            "Epoch 26/100\n",
            "1/1 [==============================] - 0s 6ms/step - loss: 11.8238 - mae: 11.8238\n",
            "Epoch 27/100\n",
            "1/1 [==============================] - 0s 7ms/step - loss: 8.2144 - mae: 8.2144\n",
            "Epoch 28/100\n",
            "1/1 [==============================] - 0s 6ms/step - loss: 11.8112 - mae: 11.8112\n",
            "Epoch 29/100\n",
            "1/1 [==============================] - 0s 6ms/step - loss: 8.2110 - mae: 8.2110\n",
            "Epoch 30/100\n",
            "1/1 [==============================] - 0s 6ms/step - loss: 11.7985 - mae: 11.7985\n",
            "Epoch 31/100\n",
            "1/1 [==============================] - 0s 6ms/step - loss: 8.2076 - mae: 8.2076\n",
            "Epoch 32/100\n",
            "1/1 [==============================] - 0s 7ms/step - loss: 11.7858 - mae: 11.7858\n",
            "Epoch 33/100\n",
            "1/1 [==============================] - 0s 6ms/step - loss: 8.2042 - mae: 8.2042\n",
            "Epoch 34/100\n",
            "1/1 [==============================] - 0s 7ms/step - loss: 11.7732 - mae: 11.7732\n",
            "Epoch 35/100\n",
            "1/1 [==============================] - 0s 6ms/step - loss: 8.2009 - mae: 8.2009\n",
            "Epoch 36/100\n",
            "1/1 [==============================] - 0s 6ms/step - loss: 11.7605 - mae: 11.7605\n",
            "Epoch 37/100\n",
            "1/1 [==============================] - 0s 6ms/step - loss: 8.1975 - mae: 8.1975\n",
            "Epoch 38/100\n",
            "1/1 [==============================] - 0s 7ms/step - loss: 11.7478 - mae: 11.7478\n",
            "Epoch 39/100\n",
            "1/1 [==============================] - 0s 11ms/step - loss: 8.1941 - mae: 8.1941\n",
            "Epoch 40/100\n",
            "1/1 [==============================] - 0s 9ms/step - loss: 11.7352 - mae: 11.7352\n",
            "Epoch 41/100\n",
            "1/1 [==============================] - 0s 11ms/step - loss: 8.1907 - mae: 8.1907\n",
            "Epoch 42/100\n",
            "1/1 [==============================] - 0s 13ms/step - loss: 11.7225 - mae: 11.7225\n",
            "Epoch 43/100\n",
            "1/1 [==============================] - 0s 6ms/step - loss: 8.1873 - mae: 8.1873\n",
            "Epoch 44/100\n",
            "1/1 [==============================] - 0s 6ms/step - loss: 11.7098 - mae: 11.7098\n",
            "Epoch 45/100\n",
            "1/1 [==============================] - 0s 6ms/step - loss: 8.1840 - mae: 8.1840\n",
            "Epoch 46/100\n",
            "1/1 [==============================] - 0s 6ms/step - loss: 11.6972 - mae: 11.6972\n",
            "Epoch 47/100\n",
            "1/1 [==============================] - 0s 6ms/step - loss: 8.1806 - mae: 8.1806\n",
            "Epoch 48/100\n",
            "1/1 [==============================] - 0s 6ms/step - loss: 11.6845 - mae: 11.6845\n",
            "Epoch 49/100\n",
            "1/1 [==============================] - 0s 6ms/step - loss: 8.1772 - mae: 8.1772\n",
            "Epoch 50/100\n",
            "1/1 [==============================] - 0s 6ms/step - loss: 11.6718 - mae: 11.6718\n",
            "Epoch 51/100\n",
            "1/1 [==============================] - 0s 6ms/step - loss: 8.1738 - mae: 8.1738\n",
            "Epoch 52/100\n",
            "1/1 [==============================] - 0s 6ms/step - loss: 11.6592 - mae: 11.6592\n",
            "Epoch 53/100\n",
            "1/1 [==============================] - 0s 6ms/step - loss: 8.1705 - mae: 8.1705\n",
            "Epoch 54/100\n",
            "1/1 [==============================] - 0s 6ms/step - loss: 11.6465 - mae: 11.6465\n",
            "Epoch 55/100\n",
            "1/1 [==============================] - 0s 6ms/step - loss: 8.1671 - mae: 8.1671\n",
            "Epoch 56/100\n",
            "1/1 [==============================] - 0s 9ms/step - loss: 11.6338 - mae: 11.6338\n",
            "Epoch 57/100\n",
            "1/1 [==============================] - 0s 6ms/step - loss: 8.1637 - mae: 8.1637\n",
            "Epoch 58/100\n",
            "1/1 [==============================] - 0s 6ms/step - loss: 11.6212 - mae: 11.6212\n",
            "Epoch 59/100\n",
            "1/1 [==============================] - 0s 5ms/step - loss: 8.1603 - mae: 8.1603\n",
            "Epoch 60/100\n",
            "1/1 [==============================] - 0s 5ms/step - loss: 11.6085 - mae: 11.6085\n",
            "Epoch 61/100\n",
            "1/1 [==============================] - 0s 5ms/step - loss: 8.1569 - mae: 8.1569\n",
            "Epoch 62/100\n",
            "1/1 [==============================] - 0s 5ms/step - loss: 11.5958 - mae: 11.5958\n",
            "Epoch 63/100\n",
            "1/1 [==============================] - 0s 6ms/step - loss: 8.1536 - mae: 8.1536\n",
            "Epoch 64/100\n",
            "1/1 [==============================] - 0s 6ms/step - loss: 11.5832 - mae: 11.5832\n",
            "Epoch 65/100\n",
            "1/1 [==============================] - 0s 6ms/step - loss: 8.1502 - mae: 8.1502\n",
            "Epoch 66/100\n",
            "1/1 [==============================] - 0s 6ms/step - loss: 11.5705 - mae: 11.5705\n",
            "Epoch 67/100\n",
            "1/1 [==============================] - 0s 6ms/step - loss: 8.1468 - mae: 8.1468\n",
            "Epoch 68/100\n",
            "1/1 [==============================] - 0s 6ms/step - loss: 11.5578 - mae: 11.5578\n",
            "Epoch 69/100\n",
            "1/1 [==============================] - 0s 6ms/step - loss: 8.1434 - mae: 8.1434\n",
            "Epoch 70/100\n",
            "1/1 [==============================] - 0s 6ms/step - loss: 11.5452 - mae: 11.5452\n",
            "Epoch 71/100\n",
            "1/1 [==============================] - 0s 6ms/step - loss: 8.1401 - mae: 8.1401\n",
            "Epoch 72/100\n",
            "1/1 [==============================] - 0s 6ms/step - loss: 11.5325 - mae: 11.5325\n",
            "Epoch 73/100\n",
            "1/1 [==============================] - 0s 6ms/step - loss: 8.1367 - mae: 8.1367\n",
            "Epoch 74/100\n",
            "1/1 [==============================] - 0s 5ms/step - loss: 11.5198 - mae: 11.5198\n",
            "Epoch 75/100\n",
            "1/1 [==============================] - 0s 6ms/step - loss: 8.1333 - mae: 8.1333\n",
            "Epoch 76/100\n",
            "1/1 [==============================] - 0s 6ms/step - loss: 11.5072 - mae: 11.5072\n",
            "Epoch 77/100\n",
            "1/1 [==============================] - 0s 5ms/step - loss: 8.1299 - mae: 8.1299\n",
            "Epoch 78/100\n",
            "1/1 [==============================] - 0s 6ms/step - loss: 11.4945 - mae: 11.4945\n",
            "Epoch 79/100\n",
            "1/1 [==============================] - 0s 6ms/step - loss: 8.1266 - mae: 8.1266\n",
            "Epoch 80/100\n",
            "1/1 [==============================] - 0s 6ms/step - loss: 11.4818 - mae: 11.4818\n",
            "Epoch 81/100\n",
            "1/1 [==============================] - 0s 6ms/step - loss: 8.1232 - mae: 8.1232\n",
            "Epoch 82/100\n",
            "1/1 [==============================] - 0s 6ms/step - loss: 11.4691 - mae: 11.4691\n",
            "Epoch 83/100\n",
            "1/1 [==============================] - 0s 6ms/step - loss: 8.1198 - mae: 8.1198\n",
            "Epoch 84/100\n",
            "1/1 [==============================] - 0s 5ms/step - loss: 11.4565 - mae: 11.4565\n",
            "Epoch 85/100\n",
            "1/1 [==============================] - 0s 6ms/step - loss: 8.1164 - mae: 8.1164\n",
            "Epoch 86/100\n",
            "1/1 [==============================] - 0s 6ms/step - loss: 11.4438 - mae: 11.4438\n",
            "Epoch 87/100\n",
            "1/1 [==============================] - 0s 6ms/step - loss: 8.1130 - mae: 8.1130\n",
            "Epoch 88/100\n",
            "1/1 [==============================] - 0s 6ms/step - loss: 11.4312 - mae: 11.4312\n",
            "Epoch 89/100\n",
            "1/1 [==============================] - 0s 5ms/step - loss: 8.1097 - mae: 8.1097\n",
            "Epoch 90/100\n",
            "1/1 [==============================] - 0s 5ms/step - loss: 11.4185 - mae: 11.4185\n",
            "Epoch 91/100\n",
            "1/1 [==============================] - 0s 6ms/step - loss: 8.1063 - mae: 8.1063\n",
            "Epoch 92/100\n",
            "1/1 [==============================] - 0s 5ms/step - loss: 11.4058 - mae: 11.4058\n",
            "Epoch 93/100\n",
            "1/1 [==============================] - 0s 6ms/step - loss: 8.1029 - mae: 8.1029\n",
            "Epoch 94/100\n",
            "1/1 [==============================] - 0s 6ms/step - loss: 11.3932 - mae: 11.3932\n",
            "Epoch 95/100\n",
            "1/1 [==============================] - 0s 6ms/step - loss: 8.0995 - mae: 8.0995\n",
            "Epoch 96/100\n",
            "1/1 [==============================] - 0s 5ms/step - loss: 11.3805 - mae: 11.3805\n",
            "Epoch 97/100\n",
            "1/1 [==============================] - 0s 5ms/step - loss: 8.0962 - mae: 8.0962\n",
            "Epoch 98/100\n",
            "1/1 [==============================] - 0s 5ms/step - loss: 11.3678 - mae: 11.3678\n",
            "Epoch 99/100\n",
            "1/1 [==============================] - 0s 5ms/step - loss: 8.0928 - mae: 8.0928\n",
            "Epoch 100/100\n",
            "1/1 [==============================] - 0s 4ms/step - loss: 11.3552 - mae: 11.3552\n"
          ]
        },
        {
          "output_type": "execute_result",
          "data": {
            "text/plain": [
              "<keras.callbacks.History at 0x7f148120ea50>"
            ]
          },
          "metadata": {},
          "execution_count": 23
        }
      ]
    },
    {
      "cell_type": "code",
      "source": [
        "from tensorflow.keras.utils import plot_model\n",
        "\n",
        "plot_model(model_1, show_shapes=True)\n",
        "\n"
      ],
      "metadata": {
        "colab": {
          "base_uri": "https://localhost:8080/",
          "height": 201
        },
        "id": "aPs4yXozeg_E",
        "outputId": "1eb5ac21-b9c4-4e53-ff78-d05a84c068ab"
      },
      "execution_count": 25,
      "outputs": [
        {
          "output_type": "execute_result",
          "data": {
            "image/png": "[encoded data removed]",
            "text/plain": [
              "<IPython.core.display.Image object>"
            ]
          },
          "metadata": {},
          "execution_count": 25
        }
      ]
    },
    {
      "cell_type": "markdown",
      "source": [
        "# Visualizing the predictions"
      ],
      "metadata": {
        "id": "RY310HmG3_V7"
      }
    },
    {
      "cell_type": "code",
      "source": [
        "y_preds = model_1.predict(X_test)"
      ],
      "metadata": {
        "id": "SDDXbqhRehA-"
      },
      "execution_count": 27,
      "outputs": []
    },
    {
      "cell_type": "code",
      "source": [
        "def plot_predictions(train_data=X_train, \n",
        "                     train_labels=y_train, \n",
        "                     test_data=X_test, \n",
        "                     test_labels=y_test, \n",
        "                     predictions=y_preds):\n",
        "    \n",
        "  \n",
        "  plt.figure(figsize=(10, 7))\n",
        "  # Plot training data in blue\n",
        "  plt.scatter(train_data, train_labels, c=\"b\", label=\"Training data\")\n",
        "  # Plot test data in green\n",
        "  plt.scatter(test_data, test_labels, c=\"g\", label=\"Testing data\")\n",
        "  # Plot the predictions in red (predictions were made on the test data)\n",
        "  plt.scatter(test_data, predictions, c=\"r\", label=\"Predictions\")\n",
        "  # Show the legend\n",
        "  plt.legend();"
      ],
      "metadata": {
        "id": "4jwp6vpUehDy"
      },
      "execution_count": 28,
      "outputs": []
    },
    {
      "cell_type": "code",
      "source": [
        "plot_predictions(train_data=X_train,\n",
        "                 train_labels=y_train,\n",
        "                 test_data=X_test,\n",
        "                 test_labels=y_test,\n",
        "                 predictions=y_preds)"
      ],
      "metadata": {
        "colab": {
          "base_uri": "https://localhost:8080/",
          "height": 428
        },
        "id": "uWAwbuEtehGe",
        "outputId": "89ee3094-13eb-41d4-bd42-00eb2426bb8e"
      },
      "execution_count": 29,
      "outputs": [
        {
          "output_type": "display_data",
          "data": {
            "text/plain": [
              "<Figure size 720x504 with 1 Axes>"
            ],
            "image/png": "[encoded data removed]"
          },
          "metadata": {
            "needs_background": "light"
          }
        }
      ]
    },
    {
      "cell_type": "code",
      "source": [
        "y_test.shape, y_preds.shape"
      ],
      "metadata": {
        "colab": {
          "base_uri": "https://localhost:8080/"
        },
        "id": "AgZyQzGpehJc",
        "outputId": "a8bcfe88-f847-47d6-e5bb-6b2ef594d48c"
      },
      "execution_count": 30,
      "outputs": [
        {
          "output_type": "execute_result",
          "data": {
            "text/plain": [
              "((10,), (10, 1))"
            ]
          },
          "metadata": {},
          "execution_count": 30
        }
      ]
    },
    {
      "cell_type": "code",
      "source": [
        "# Removing the 1 dimension\n",
        "y_preds.squeeze().shape"
      ],
      "metadata": {
        "colab": {
          "base_uri": "https://localhost:8080/"
        },
        "id": "aiTyDzitehMC",
        "outputId": "f9194ded-ae18-4b04-babc-cd437630fb58"
      },
      "execution_count": 31,
      "outputs": [
        {
          "output_type": "execute_result",
          "data": {
            "text/plain": [
              "(10,)"
            ]
          },
          "metadata": {},
          "execution_count": 31
        }
      ]
    },
    {
      "cell_type": "code",
      "source": [
        "y_test, y_preds.squeeze()"
      ],
      "metadata": {
        "colab": {
          "base_uri": "https://localhost:8080/"
        },
        "id": "P6FziCstehPR",
        "outputId": "b165fb5d-2aef-4651-f758-66a7d60c607c"
      },
      "execution_count": 32,
      "outputs": [
        {
          "output_type": "execute_result",
          "data": {
            "text/plain": [
              "(array([ 60,  65,  70,  75,  80,  85,  90,  95, 100, 105]),\n",
              " array([40.46367 , 44.447304, 48.43094 , 52.41457 , 56.398205, 60.381836,\n",
              "        64.36547 , 68.349106, 72.33274 , 76.31637 ], dtype=float32))"
            ]
          },
          "metadata": {},
          "execution_count": 32
        }
      ]
    },
    {
      "cell_type": "markdown",
      "source": [
        "# Calculating the MAE and MSE"
      ],
      "metadata": {
        "id": "l1ibUyWA5HiU"
      }
    },
    {
      "cell_type": "code",
      "source": [
        "# Calcuate the MAE\n",
        "mae = tf.metrics.mean_absolute_error(y_true=y_test, \n",
        "                                     y_pred=y_preds.squeeze()) # use squeeze() to make same shape\n",
        "mae"
      ],
      "metadata": {
        "colab": {
          "base_uri": "https://localhost:8080/"
        },
        "id": "IveMZsMQehSE",
        "outputId": "03fefdcf-ad1a-40ce-cc01-bff255ce3e2a"
      },
      "execution_count": 33,
      "outputs": [
        {
          "output_type": "execute_result",
          "data": {
            "text/plain": [
              "<tf.Tensor: shape=(), dtype=float32, numpy=24.10998>"
            ]
          },
          "metadata": {},
          "execution_count": 33
        }
      ]
    },
    {
      "cell_type": "code",
      "source": [
        "# Calculate the MSE\n",
        "mse = tf.metrics.mean_squared_error(y_true=y_test,\n",
        "                                    y_pred=y_preds.squeeze())\n",
        "mse"
      ],
      "metadata": {
        "colab": {
          "base_uri": "https://localhost:8080/"
        },
        "id": "H5z44eFLehVU",
        "outputId": "c36945c5-a3ba-4e4f-ed0b-611b82d1cfa5"
      },
      "execution_count": 34,
      "outputs": [
        {
          "output_type": "execute_result",
          "data": {
            "text/plain": [
              "<tf.Tensor: shape=(), dtype=float32, numpy=589.81335>"
            ]
          },
          "metadata": {},
          "execution_count": 34
        }
      ]
    },
    {
      "cell_type": "code",
      "source": [
        "def mae(y_test, y_pred):\n",
        "  \n",
        "  #Calculuates mean absolute error between y_test and y_preds.\n",
        "  \n",
        "  return tf.metrics.mean_absolute_error(y_test,\n",
        "                                        y_pred)\n",
        "  \n",
        "def mse(y_test, y_pred):\n",
        "  \n",
        "  #Calculates mean squared error between y_test and y_preds.\n",
        " \n",
        "  return tf.metrics.mean_squared_error(y_test,\n",
        "                                       y_pred)"
      ],
      "metadata": {
        "id": "uSvNA1l6ehXf"
      },
      "execution_count": 35,
      "outputs": []
    },
    {
      "cell_type": "markdown",
      "source": [
        "# Imporving the model"
      ],
      "metadata": {
        "id": "lLiR7cYD5nDc"
      }
    },
    {
      "cell_type": "code",
      "source": [
        "tf.random.set_seed(42)\n",
        "\n",
        "# Replicate original model\n",
        "model_2 = tf.keras.Sequential([\n",
        "  tf.keras.layers.Dense(1)\n",
        "])\n",
        "\n",
        "# Compile the model\n",
        "model_2.compile(loss=tf.keras.losses.mae,\n",
        "                optimizer=tf.keras.optimizers.SGD(),\n",
        "                metrics=['mae'])\n",
        "\n",
        "# Fit the model\n",
        "model_2.fit(tf.expand_dims(X_train, axis=-1), y_train, epochs=100)"
      ],
      "metadata": {
        "colab": {
          "base_uri": "https://localhost:8080/"
        },
        "id": "6jS23zQMehaG",
        "outputId": "26cd0f1f-8c7a-4255-9b06-62f58475c152"
      },
      "execution_count": 36,
      "outputs": [
        {
          "output_type": "stream",
          "name": "stdout",
          "text": [
            "Epoch 1/100\n",
            "1/1 [==============================] - 0s 263ms/step - loss: 16.1727 - mae: 16.1727\n",
            "Epoch 2/100\n",
            "1/1 [==============================] - 0s 9ms/step - loss: 8.9481 - mae: 8.9481\n",
            "Epoch 3/100\n",
            "1/1 [==============================] - 0s 8ms/step - loss: 11.7873 - mae: 11.7873\n",
            "Epoch 4/100\n",
            "1/1 [==============================] - 0s 7ms/step - loss: 11.1375 - mae: 11.1375\n",
            "Epoch 5/100\n",
            "1/1 [==============================] - 0s 6ms/step - loss: 9.1108 - mae: 9.1108\n",
            "Epoch 6/100\n",
            "1/1 [==============================] - 0s 5ms/step - loss: 11.9505 - mae: 11.9505\n",
            "Epoch 7/100\n",
            "1/1 [==============================] - 0s 5ms/step - loss: 8.2481 - mae: 8.2481\n",
            "Epoch 8/100\n",
            "1/1 [==============================] - 0s 6ms/step - loss: 11.9378 - mae: 11.9378\n",
            "Epoch 9/100\n",
            "1/1 [==============================] - 0s 5ms/step - loss: 8.2448 - mae: 8.2448\n",
            "Epoch 10/100\n",
            "1/1 [==============================] - 0s 5ms/step - loss: 11.9252 - mae: 11.9252\n",
            "Epoch 11/100\n",
            "1/1 [==============================] - 0s 5ms/step - loss: 8.2414 - mae: 8.2414\n",
            "Epoch 12/100\n",
            "1/1 [==============================] - 0s 11ms/step - loss: 11.9125 - mae: 11.9125\n",
            "Epoch 13/100\n",
            "1/1 [==============================] - 0s 7ms/step - loss: 8.2380 - mae: 8.2380\n",
            "Epoch 14/100\n",
            "1/1 [==============================] - 0s 5ms/step - loss: 11.8998 - mae: 11.8998\n",
            "Epoch 15/100\n",
            "1/1 [==============================] - 0s 6ms/step - loss: 8.2346 - mae: 8.2346\n",
            "Epoch 16/100\n",
            "1/1 [==============================] - 0s 5ms/step - loss: 11.8872 - mae: 11.8872\n",
            "Epoch 17/100\n",
            "1/1 [==============================] - 0s 5ms/step - loss: 8.2313 - mae: 8.2313\n",
            "Epoch 18/100\n",
            "1/1 [==============================] - 0s 5ms/step - loss: 11.8745 - mae: 11.8745\n",
            "Epoch 19/100\n",
            "1/1 [==============================] - 0s 5ms/step - loss: 8.2279 - mae: 8.2279\n",
            "Epoch 20/100\n",
            "1/1 [==============================] - 0s 6ms/step - loss: 11.8618 - mae: 11.8618\n",
            "Epoch 21/100\n",
            "1/1 [==============================] - 0s 5ms/step - loss: 8.2245 - mae: 8.2245\n",
            "Epoch 22/100\n",
            "1/1 [==============================] - 0s 5ms/step - loss: 11.8492 - mae: 11.8492\n",
            "Epoch 23/100\n",
            "1/1 [==============================] - 0s 5ms/step - loss: 8.2211 - mae: 8.2211\n",
            "Epoch 24/100\n",
            "1/1 [==============================] - 0s 5ms/step - loss: 11.8365 - mae: 11.8365\n",
            "Epoch 25/100\n",
            "1/1 [==============================] - 0s 5ms/step - loss: 8.2177 - mae: 8.2177\n",
            "Epoch 26/100\n",
            "1/1 [==============================] - 0s 6ms/step - loss: 11.8238 - mae: 11.8238\n",
            "Epoch 27/100\n",
            "1/1 [==============================] - 0s 5ms/step - loss: 8.2144 - mae: 8.2144\n",
            "Epoch 28/100\n",
            "1/1 [==============================] - 0s 6ms/step - loss: 11.8112 - mae: 11.8112\n",
            "Epoch 29/100\n",
            "1/1 [==============================] - 0s 6ms/step - loss: 8.2110 - mae: 8.2110\n",
            "Epoch 30/100\n",
            "1/1 [==============================] - 0s 5ms/step - loss: 11.7985 - mae: 11.7985\n",
            "Epoch 31/100\n",
            "1/1 [==============================] - 0s 5ms/step - loss: 8.2076 - mae: 8.2076\n",
            "Epoch 32/100\n",
            "1/1 [==============================] - 0s 5ms/step - loss: 11.7858 - mae: 11.7858\n",
            "Epoch 33/100\n",
            "1/1 [==============================] - 0s 6ms/step - loss: 8.2042 - mae: 8.2042\n",
            "Epoch 34/100\n",
            "1/1 [==============================] - 0s 5ms/step - loss: 11.7732 - mae: 11.7732\n",
            "Epoch 35/100\n",
            "1/1 [==============================] - 0s 5ms/step - loss: 8.2009 - mae: 8.2009\n",
            "Epoch 36/100\n",
            "1/1 [==============================] - 0s 6ms/step - loss: 11.7605 - mae: 11.7605\n",
            "Epoch 37/100\n",
            "1/1 [==============================] - 0s 5ms/step - loss: 8.1975 - mae: 8.1975\n",
            "Epoch 38/100\n",
            "1/1 [==============================] - 0s 5ms/step - loss: 11.7478 - mae: 11.7478\n",
            "Epoch 39/100\n",
            "1/1 [==============================] - 0s 5ms/step - loss: 8.1941 - mae: 8.1941\n",
            "Epoch 40/100\n",
            "1/1 [==============================] - 0s 6ms/step - loss: 11.7352 - mae: 11.7352\n",
            "Epoch 41/100\n",
            "1/1 [==============================] - 0s 5ms/step - loss: 8.1907 - mae: 8.1907\n",
            "Epoch 42/100\n",
            "1/1 [==============================] - 0s 5ms/step - loss: 11.7225 - mae: 11.7225\n",
            "Epoch 43/100\n",
            "1/1 [==============================] - 0s 6ms/step - loss: 8.1873 - mae: 8.1873\n",
            "Epoch 44/100\n",
            "1/1 [==============================] - 0s 7ms/step - loss: 11.7098 - mae: 11.7098\n",
            "Epoch 45/100\n",
            "1/1 [==============================] - 0s 6ms/step - loss: 8.1840 - mae: 8.1840\n",
            "Epoch 46/100\n",
            "1/1 [==============================] - 0s 5ms/step - loss: 11.6972 - mae: 11.6972\n",
            "Epoch 47/100\n",
            "1/1 [==============================] - 0s 5ms/step - loss: 8.1806 - mae: 8.1806\n",
            "Epoch 48/100\n",
            "1/1 [==============================] - 0s 6ms/step - loss: 11.6845 - mae: 11.6845\n",
            "Epoch 49/100\n",
            "1/1 [==============================] - 0s 8ms/step - loss: 8.1772 - mae: 8.1772\n",
            "Epoch 50/100\n",
            "1/1 [==============================] - 0s 6ms/step - loss: 11.6718 - mae: 11.6718\n",
            "Epoch 51/100\n",
            "1/1 [==============================] - 0s 7ms/step - loss: 8.1738 - mae: 8.1738\n",
            "Epoch 52/100\n",
            "1/1 [==============================] - 0s 7ms/step - loss: 11.6592 - mae: 11.6592\n",
            "Epoch 53/100\n",
            "1/1 [==============================] - 0s 6ms/step - loss: 8.1705 - mae: 8.1705\n",
            "Epoch 54/100\n",
            "1/1 [==============================] - 0s 6ms/step - loss: 11.6465 - mae: 11.6465\n",
            "Epoch 55/100\n",
            "1/1 [==============================] - 0s 7ms/step - loss: 8.1671 - mae: 8.1671\n",
            "Epoch 56/100\n",
            "1/1 [==============================] - 0s 6ms/step - loss: 11.6338 - mae: 11.6338\n",
            "Epoch 57/100\n",
            "1/1 [==============================] - 0s 7ms/step - loss: 8.1637 - mae: 8.1637\n",
            "Epoch 58/100\n",
            "1/1 [==============================] - 0s 8ms/step - loss: 11.6212 - mae: 11.6212\n",
            "Epoch 59/100\n",
            "1/1 [==============================] - 0s 8ms/step - loss: 8.1603 - mae: 8.1603\n",
            "Epoch 60/100\n",
            "1/1 [==============================] - 0s 7ms/step - loss: 11.6085 - mae: 11.6085\n",
            "Epoch 61/100\n",
            "1/1 [==============================] - 0s 5ms/step - loss: 8.1569 - mae: 8.1569\n",
            "Epoch 62/100\n",
            "1/1 [==============================] - 0s 13ms/step - loss: 11.5958 - mae: 11.5958\n",
            "Epoch 63/100\n",
            "1/1 [==============================] - 0s 7ms/step - loss: 8.1536 - mae: 8.1536\n",
            "Epoch 64/100\n",
            "1/1 [==============================] - 0s 8ms/step - loss: 11.5832 - mae: 11.5832\n",
            "Epoch 65/100\n",
            "1/1 [==============================] - 0s 5ms/step - loss: 8.1502 - mae: 8.1502\n",
            "Epoch 66/100\n",
            "1/1 [==============================] - 0s 5ms/step - loss: 11.5705 - mae: 11.5705\n",
            "Epoch 67/100\n",
            "1/1 [==============================] - 0s 5ms/step - loss: 8.1468 - mae: 8.1468\n",
            "Epoch 68/100\n",
            "1/1 [==============================] - 0s 5ms/step - loss: 11.5578 - mae: 11.5578\n",
            "Epoch 69/100\n",
            "1/1 [==============================] - 0s 5ms/step - loss: 8.1434 - mae: 8.1434\n",
            "Epoch 70/100\n",
            "1/1 [==============================] - 0s 5ms/step - loss: 11.5452 - mae: 11.5452\n",
            "Epoch 71/100\n",
            "1/1 [==============================] - 0s 7ms/step - loss: 8.1401 - mae: 8.1401\n",
            "Epoch 72/100\n",
            "1/1 [==============================] - 0s 5ms/step - loss: 11.5325 - mae: 11.5325\n",
            "Epoch 73/100\n",
            "1/1 [==============================] - 0s 5ms/step - loss: 8.1367 - mae: 8.1367\n",
            "Epoch 74/100\n",
            "1/1 [==============================] - 0s 5ms/step - loss: 11.5198 - mae: 11.5198\n",
            "Epoch 75/100\n",
            "1/1 [==============================] - 0s 6ms/step - loss: 8.1333 - mae: 8.1333\n",
            "Epoch 76/100\n",
            "1/1 [==============================] - 0s 5ms/step - loss: 11.5072 - mae: 11.5072\n",
            "Epoch 77/100\n",
            "1/1 [==============================] - 0s 5ms/step - loss: 8.1299 - mae: 8.1299\n",
            "Epoch 78/100\n",
            "1/1 [==============================] - 0s 5ms/step - loss: 11.4945 - mae: 11.4945\n",
            "Epoch 79/100\n",
            "1/1 [==============================] - 0s 5ms/step - loss: 8.1266 - mae: 8.1266\n",
            "Epoch 80/100\n",
            "1/1 [==============================] - 0s 6ms/step - loss: 11.4818 - mae: 11.4818\n",
            "Epoch 81/100\n",
            "1/1 [==============================] - 0s 5ms/step - loss: 8.1232 - mae: 8.1232\n",
            "Epoch 82/100\n",
            "1/1 [==============================] - 0s 5ms/step - loss: 11.4691 - mae: 11.4691\n",
            "Epoch 83/100\n",
            "1/1 [==============================] - 0s 5ms/step - loss: 8.1198 - mae: 8.1198\n",
            "Epoch 84/100\n",
            "1/1 [==============================] - 0s 5ms/step - loss: 11.4565 - mae: 11.4565\n",
            "Epoch 85/100\n",
            "1/1 [==============================] - 0s 5ms/step - loss: 8.1164 - mae: 8.1164\n",
            "Epoch 86/100\n",
            "1/1 [==============================] - 0s 5ms/step - loss: 11.4438 - mae: 11.4438\n",
            "Epoch 87/100\n",
            "1/1 [==============================] - 0s 5ms/step - loss: 8.1130 - mae: 8.1130\n",
            "Epoch 88/100\n",
            "1/1 [==============================] - 0s 6ms/step - loss: 11.4312 - mae: 11.4312\n",
            "Epoch 89/100\n",
            "1/1 [==============================] - 0s 5ms/step - loss: 8.1097 - mae: 8.1097\n",
            "Epoch 90/100\n",
            "1/1 [==============================] - 0s 6ms/step - loss: 11.4185 - mae: 11.4185\n",
            "Epoch 91/100\n",
            "1/1 [==============================] - 0s 15ms/step - loss: 8.1063 - mae: 8.1063\n",
            "Epoch 92/100\n",
            "1/1 [==============================] - 0s 7ms/step - loss: 11.4058 - mae: 11.4058\n",
            "Epoch 93/100\n",
            "1/1 [==============================] - 0s 8ms/step - loss: 8.1029 - mae: 8.1029\n",
            "Epoch 94/100\n",
            "1/1 [==============================] - 0s 8ms/step - loss: 11.3932 - mae: 11.3932\n",
            "Epoch 95/100\n",
            "1/1 [==============================] - 0s 6ms/step - loss: 8.0995 - mae: 8.0995\n",
            "Epoch 96/100\n",
            "1/1 [==============================] - 0s 14ms/step - loss: 11.3805 - mae: 11.3805\n",
            "Epoch 97/100\n",
            "1/1 [==============================] - 0s 8ms/step - loss: 8.0962 - mae: 8.0962\n",
            "Epoch 98/100\n",
            "1/1 [==============================] - 0s 8ms/step - loss: 11.3678 - mae: 11.3678\n",
            "Epoch 99/100\n",
            "1/1 [==============================] - 0s 11ms/step - loss: 8.0928 - mae: 8.0928\n",
            "Epoch 100/100\n",
            "1/1 [==============================] - 0s 8ms/step - loss: 11.3552 - mae: 11.3552\n"
          ]
        },
        {
          "output_type": "execute_result",
          "data": {
            "text/plain": [
              "<keras.callbacks.History at 0x7f147fea1290>"
            ]
          },
          "metadata": {},
          "execution_count": 36
        }
      ]
    },
    {
      "cell_type": "code",
      "source": [
        "tf.expand_dims(X_train, axis=-1)"
      ],
      "metadata": {
        "colab": {
          "base_uri": "https://localhost:8080/"
        },
        "id": "nWiSEGJkehc9",
        "outputId": "ccfe969e-ef8b-452f-d5d5-934b1b79c2ed"
      },
      "execution_count": 40,
      "outputs": [
        {
          "output_type": "execute_result",
          "data": {
            "text/plain": [
              "<tf.Tensor: shape=(30, 1), dtype=int64, numpy=\n",
              "array([[-100],\n",
              "       [ -95],\n",
              "       [ -90],\n",
              "       [ -85],\n",
              "       [ -80],\n",
              "       [ -75],\n",
              "       [ -70],\n",
              "       [ -65],\n",
              "       [ -60],\n",
              "       [ -55],\n",
              "       [ -50],\n",
              "       [ -45],\n",
              "       [ -40],\n",
              "       [ -35],\n",
              "       [ -30],\n",
              "       [ -25],\n",
              "       [ -20],\n",
              "       [ -15],\n",
              "       [ -10],\n",
              "       [  -5],\n",
              "       [   0],\n",
              "       [   5],\n",
              "       [  10],\n",
              "       [  15],\n",
              "       [  20],\n",
              "       [  25],\n",
              "       [  30],\n",
              "       [  35],\n",
              "       [  40],\n",
              "       [  45]])>"
            ]
          },
          "metadata": {},
          "execution_count": 40
        }
      ]
    },
    {
      "cell_type": "code",
      "source": [
        "y_preds_1 = model_1.predict(X_test)\n",
        "plot_predictions(predictions=y_preds_1)"
      ],
      "metadata": {
        "colab": {
          "base_uri": "https://localhost:8080/",
          "height": 428
        },
        "id": "5RG-t9z-ehfy",
        "outputId": "36bf5cd6-f319-4be6-ba6f-936f72e38133"
      },
      "execution_count": 41,
      "outputs": [
        {
          "output_type": "display_data",
          "data": {
            "text/plain": [
              "<Figure size 720x504 with 1 Axes>"
            ],
            "image/png": "[encoded data removed]"
          },
          "metadata": {
            "needs_background": "light"
          }
        }
      ]
    },
    {
      "cell_type": "code",
      "source": [
        "mae_1 = mae(y_test, y_preds_1.squeeze()).numpy()\n",
        "mse_1 = mse(y_test, y_preds_1.squeeze()).numpy()\n",
        "mae_1, mse_1"
      ],
      "metadata": {
        "colab": {
          "base_uri": "https://localhost:8080/"
        },
        "id": "LueG5trJehij",
        "outputId": "26283e62-a7bd-42f6-e229-670d162acc78"
      },
      "execution_count": 42,
      "outputs": [
        {
          "output_type": "execute_result",
          "data": {
            "text/plain": [
              "(24.10998, 589.81335)"
            ]
          },
          "metadata": {},
          "execution_count": 42
        }
      ]
    },
    {
      "cell_type": "code",
      "source": [
        "tf.random.set_seed(42)\n",
        "\n",
        "# Replicate model_1 and add an extra layer\n",
        "model_3 = tf.keras.Sequential([\n",
        "  tf.keras.layers.Dense(1),\n",
        "  tf.keras.layers.Dense(1) # add a second layer\n",
        "])\n",
        "\n",
        "# Compile the model\n",
        "model_3.compile(loss=tf.keras.losses.mae,\n",
        "                optimizer=tf.keras.optimizers.SGD(),\n",
        "                metrics=['mae'])\n",
        "\n",
        "# Fit the model\n",
        "model_3.fit(tf.expand_dims(X_train, axis=-1), y_train, epochs=100, verbose=0)"
      ],
      "metadata": {
        "colab": {
          "base_uri": "https://localhost:8080/"
        },
        "id": "zdLiZmgaehl7",
        "outputId": "3f5c2cf4-18f1-44c6-d112-3f4577fb8264"
      },
      "execution_count": 43,
      "outputs": [
        {
          "output_type": "execute_result",
          "data": {
            "text/plain": [
              "<keras.callbacks.History at 0x7f147fd111d0>"
            ]
          },
          "metadata": {},
          "execution_count": 43
        }
      ]
    },
    {
      "cell_type": "code",
      "source": [
        "y_preds_2 = model_2.predict(X_test)\n",
        "plot_predictions(predictions=y_preds_2)"
      ],
      "metadata": {
        "colab": {
          "base_uri": "https://localhost:8080/",
          "height": 428
        },
        "id": "koC5EhzJ6JQX",
        "outputId": "5a3ba9e7-0295-4ee7-c017-ce56c3b1a3bc"
      },
      "execution_count": 44,
      "outputs": [
        {
          "output_type": "display_data",
          "data": {
            "text/plain": [
              "<Figure size 720x504 with 1 Axes>"
            ],
            "image/png": "[encoded data removed]"
          },
          "metadata": {
            "needs_background": "light"
          }
        }
      ]
    },
    {
      "cell_type": "code",
      "source": [
        "mae_2 = mae(y_test, y_preds_2.squeeze()).numpy()\n",
        "mse_2 = mse(y_test, y_preds_2.squeeze()).numpy()\n",
        "mae_2, mse_2"
      ],
      "metadata": {
        "colab": {
          "base_uri": "https://localhost:8080/"
        },
        "id": "nsh7E9ld69ZT",
        "outputId": "f5dda202-28b6-476f-f185-9ca81e85e2f1"
      },
      "execution_count": 49,
      "outputs": [
        {
          "output_type": "execute_result",
          "data": {
            "text/plain": [
              "(24.10998, 589.81335)"
            ]
          },
          "metadata": {},
          "execution_count": 49
        }
      ]
    },
    {
      "cell_type": "code",
      "source": [
        "tf.random.set_seed(42)\n",
        "\n",
        "# Replicate model_2\n",
        "model_4 = tf.keras.Sequential([\n",
        "  tf.keras.layers.Dense(1),\n",
        "  tf.keras.layers.Dense(1)\n",
        "])\n",
        "\n",
        "# Compile the model\n",
        "model_4.compile(loss=tf.keras.losses.mae,\n",
        "                optimizer=tf.keras.optimizers.SGD(),\n",
        "                metrics=['mae'])\n",
        "\n",
        "# Fit the model (this time for 500 epochs, not 100)\n",
        "model_4.fit(tf.expand_dims(X_train, axis=-1), y_train, epochs=500, verbose=0)"
      ],
      "metadata": {
        "colab": {
          "base_uri": "https://localhost:8080/"
        },
        "id": "hU7nLf0B6JNt",
        "outputId": "1322d1c8-582b-4c74-ac6d-e4b600d48ef2"
      },
      "execution_count": 45,
      "outputs": [
        {
          "output_type": "execute_result",
          "data": {
            "text/plain": [
              "<keras.callbacks.History at 0x7f147fb669d0>"
            ]
          },
          "metadata": {},
          "execution_count": 45
        }
      ]
    },
    {
      "cell_type": "code",
      "source": [
        "y_preds_3 = model_3.predict(X_test)\n",
        "plot_predictions(predictions=y_preds_3)"
      ],
      "metadata": {
        "colab": {
          "base_uri": "https://localhost:8080/",
          "height": 465
        },
        "id": "vT8iHuZN6JLB",
        "outputId": "0c90ccb3-260a-4aea-ab9a-f1def5e8f9e9"
      },
      "execution_count": 46,
      "outputs": [
        {
          "output_type": "stream",
          "name": "stderr",
          "text": [
            "WARNING:tensorflow:5 out of the last 6 calls to <function Model.make_predict_function.<locals>.predict_function at 0x7f147fe8d050> triggered tf.function retracing. Tracing is expensive and the excessive number of tracings could be due to (1) creating @tf.function repeatedly in a loop, (2) passing tensors with different shapes, (3) passing Python objects instead of tensors. For (1), please define your @tf.function outside of the loop. For (2), @tf.function has experimental_relax_shapes=True option that relaxes argument shapes that can avoid unnecessary retracing. For (3), please refer to https://www.tensorflow.org/guide/function#controlling_retracing and https://www.tensorflow.org/api_docs/python/tf/function for  more details.\n"
          ]
        },
        {
          "output_type": "display_data",
          "data": {
            "text/plain": [
              "<Figure size 720x504 with 1 Axes>"
            ],
            "image/png": "[encoded data removed]"
          },
          "metadata": {
            "needs_background": "light"
          }
        }
      ]
    },
    {
      "cell_type": "code",
      "source": [
        "mae_3 = mae(y_test, y_preds_3.squeeze()).numpy()\n",
        "mse_3 = mse(y_test, y_preds_3.squeeze()).numpy()\n",
        "mae_3, mse_3"
      ],
      "metadata": {
        "colab": {
          "base_uri": "https://localhost:8080/"
        },
        "id": "gw6NQ4GJ6JIW",
        "outputId": "fddf7740-8d50-4853-cf4b-fca4fd434164"
      },
      "execution_count": 47,
      "outputs": [
        {
          "output_type": "execute_result",
          "data": {
            "text/plain": [
              "(2.2048297, 6.663087)"
            ]
          },
          "metadata": {},
          "execution_count": 47
        }
      ]
    },
    {
      "cell_type": "code",
      "source": [
        "model_results = [[\"model_2\", mae_1, mse_1],\n",
        "                 [\"model_3\", mae_2, mse_2],\n",
        "                 [\"model_4\", mae_3, mae_3]]\n",
        "\n",
        "model_results"
      ],
      "metadata": {
        "colab": {
          "base_uri": "https://localhost:8080/"
        },
        "id": "nAMCo2Wz6JFs",
        "outputId": "84a2ae23-6ee6-4f88-a17b-db12e1062fea"
      },
      "execution_count": 51,
      "outputs": [
        {
          "output_type": "execute_result",
          "data": {
            "text/plain": [
              "[['model_2', 24.10998, 589.81335],\n",
              " ['model_3', 24.10998, 589.81335],\n",
              " ['model_4', 2.2048297, 2.2048297]]"
            ]
          },
          "metadata": {},
          "execution_count": 51
        }
      ]
    },
    {
      "cell_type": "code",
      "source": [
        "import pandas as pd\n",
        "all_results = pd.DataFrame(model_results, columns=[\"model\", \"mae\", \"mse\"])\n",
        "all_results"
      ],
      "metadata": {
        "colab": {
          "base_uri": "https://localhost:8080/",
          "height": 144
        },
        "id": "BHL07ELC6JC9",
        "outputId": "a86a87af-2697-4815-d71a-cc6059998fda"
      },
      "execution_count": 52,
      "outputs": [
        {
          "output_type": "execute_result",
          "data": {
            "text/plain": [
              "     model       mae         mse\n",
              "0  model_2  24.10998  589.813354\n",
              "1  model_3  24.10998  589.813354\n",
              "2  model_4   2.20483    2.204830"
            ],
            "text/html": [
              "\n",
              "  <div id=\"df-bdeb45e8-ee08-4fad-ae3e-96dcfa5e2ec2\">\n",
              "    <div class=\"colab-df-container\">\n",
              "      <div>\n",
              "<style scoped>\n",
              "    .dataframe tbody tr th:only-of-type {\n",
              "        vertical-align: middle;\n",
              "    }\n",
              "\n",
              "    .dataframe tbody tr th {\n",
              "        vertical-align: top;\n",
              "    }\n",
              "\n",
              "    .dataframe thead th {\n",
              "        text-align: right;\n",
              "    }\n",
              "</style>\n",
              "<table border=\"1\" class=\"dataframe\">\n",
              "  <thead>\n",
              "    <tr style=\"text-align: right;\">\n",
              "      <th></th>\n",
              "      <th>model</th>\n",
              "      <th>mae</th>\n",
              "      <th>mse</th>\n",
              "    </tr>\n",
              "  </thead>\n",
              "  <tbody>\n",
              "    <tr>\n",
              "      <th>0</th>\n",
              "      <td>model_2</td>\n",
              "      <td>24.10998</td>\n",
              "      <td>589.813354</td>\n",
              "    </tr>\n",
              "    <tr>\n",
              "      <th>1</th>\n",
              "      <td>model_3</td>\n",
              "      <td>24.10998</td>\n",
              "      <td>589.813354</td>\n",
              "    </tr>\n",
              "    <tr>\n",
              "      <th>2</th>\n",
              "      <td>model_4</td>\n",
              "      <td>2.20483</td>\n",
              "      <td>2.204830</td>\n",
              "    </tr>\n",
              "  </tbody>\n",
              "</table>\n",
              "</div>\n",
              "      <button class=\"colab-df-convert\" onclick=\"convertToInteractive('df-bdeb45e8-ee08-4fad-ae3e-96dcfa5e2ec2')\"\n",
              "              title=\"Convert this dataframe to an interactive table.\"\n",
              "              style=\"display:none;\">\n",
              "        \n",
              "  <svg xmlns=\"http://www.w3.org/2000/svg\" height=\"24px\"viewBox=\"0 0 24 24\"\n",
              "       width=\"24px\">\n",
              "    <path d=\"M0 0h24v24H0V0z\" fill=\"none\"/>\n",
              "    <path d=\"M18.56 5.44l.94 2.06.94-2.06 2.06-.94-2.06-.94-.94-2.06-.94 2.06-2.06.94zm-11 1L8.5 8.5l.94-2.06 2.06-.94-2.06-.94L8.5 2.5l-.94 2.06-2.06.94zm10 10l.94 2.06.94-2.06 2.06-.94-2.06-.94-.94-2.06-.94 2.06-2.06.94z\"/><path d=\"M17.41 7.96l-1.37-1.37c-.4-.4-.92-.59-1.43-.59-.52 0-1.04.2-1.43.59L10.3 9.45l-7.72 7.72c-.78.78-.78 2.05 0 2.83L4 21.41c.39.39.9.59 1.41.59.51 0 1.02-.2 1.41-.59l7.78-7.78 2.81-2.81c.8-.78.8-2.07 0-2.86zM5.41 20L4 18.59l7.72-7.72 1.47 1.35L5.41 20z\"/>\n",
              "  </svg>\n",
              "      </button>\n",
              "      \n",
              "  <style>\n",
              "    .colab-df-container {\n",
              "      display:flex;\n",
              "      flex-wrap:wrap;\n",
              "      gap: 12px;\n",
              "    }\n",
              "\n",
              "    .colab-df-convert {\n",
              "      background-color: #E8F0FE;\n",
              "      border: none;\n",
              "      border-radius: 50%;\n",
              "      cursor: pointer;\n",
              "      display: none;\n",
              "      fill: #1967D2;\n",
              "      height: 32px;\n",
              "      padding: 0 0 0 0;\n",
              "      width: 32px;\n",
              "    }\n",
              "\n",
              "    .colab-df-convert:hover {\n",
              "      background-color: #E2EBFA;\n",
              "      box-shadow: 0px 1px 2px rgba(60, 64, 67, 0.3), 0px 1px 3px 1px rgba(60, 64, 67, 0.15);\n",
              "      fill: #174EA6;\n",
              "    }\n",
              "\n",
              "    [theme=dark] .colab-df-convert {\n",
              "      background-color: #3B4455;\n",
              "      fill: #D2E3FC;\n",
              "    }\n",
              "\n",
              "    [theme=dark] .colab-df-convert:hover {\n",
              "      background-color: #434B5C;\n",
              "      box-shadow: 0px 1px 3px 1px rgba(0, 0, 0, 0.15);\n",
              "      filter: drop-shadow(0px 1px 2px rgba(0, 0, 0, 0.3));\n",
              "      fill: #FFFFFF;\n",
              "    }\n",
              "  </style>\n",
              "\n",
              "      <script>\n",
              "        const buttonEl =\n",
              "          document.querySelector('#df-bdeb45e8-ee08-4fad-ae3e-96dcfa5e2ec2 button.colab-df-convert');\n",
              "        buttonEl.style.display =\n",
              "          google.colab.kernel.accessAllowed ? 'block' : 'none';\n",
              "\n",
              "        async function convertToInteractive(key) {\n",
              "          const element = document.querySelector('#df-bdeb45e8-ee08-4fad-ae3e-96dcfa5e2ec2');\n",
              "          const dataTable =\n",
              "            await google.colab.kernel.invokeFunction('convertToInteractive',\n",
              "                                                     [key], {});\n",
              "          if (!dataTable) return;\n",
              "\n",
              "          const docLinkHtml = 'Like what you see? Visit the ' +\n",
              "            '<a target=\"_blank\" href=https://colab.research.google.com/notebooks/data_table.ipynb>data table notebook</a>'\n",
              "            + ' to learn more about interactive tables.';\n",
              "          element.innerHTML = '';\n",
              "          dataTable['output_type'] = 'display_data';\n",
              "          await google.colab.output.renderOutput(dataTable, element);\n",
              "          const docLink = document.createElement('div');\n",
              "          docLink.innerHTML = docLinkHtml;\n",
              "          element.appendChild(docLink);\n",
              "        }\n",
              "      </script>\n",
              "    </div>\n",
              "  </div>\n",
              "  "
            ]
          },
          "metadata": {},
          "execution_count": 52
        }
      ]
    },
    {
      "cell_type": "markdown",
      "source": [
        "**The model_4 is the best fitting model**"
      ],
      "metadata": {
        "id": "m3HVyZqb7U2-"
      }
    },
    {
      "cell_type": "code",
      "source": [
        ""
      ],
      "metadata": {
        "id": "XDgYfSV26JAW"
      },
      "execution_count": null,
      "outputs": []
    },
    {
      "cell_type": "code",
      "source": [
        ""
      ],
      "metadata": {
        "id": "n9dL7Jco6I9g"
      },
      "execution_count": null,
      "outputs": []
    },
    {
      "cell_type": "code",
      "source": [
        ""
      ],
      "metadata": {
        "id": "qsGGedSB6I6n"
      },
      "execution_count": null,
      "outputs": []
    },
    {
      "cell_type": "code",
      "source": [
        ""
      ],
      "metadata": {
        "id": "YzRQuk-X6I33"
      },
      "execution_count": null,
      "outputs": []
    },
    {
      "cell_type": "code",
      "source": [
        ""
      ],
      "metadata": {
        "id": "m4MBCQ7k6I03"
      },
      "execution_count": null,
      "outputs": []
    },
    {
      "cell_type": "code",
      "source": [
        ""
      ],
      "metadata": {
        "id": "lm7wWZ_C6Ix4"
      },
      "execution_count": null,
      "outputs": []
    },
    {
      "cell_type": "code",
      "source": [
        ""
      ],
      "metadata": {
        "id": "Scgh30Zc6Iux"
      },
      "execution_count": null,
      "outputs": []
    },
    {
      "cell_type": "code",
      "source": [
        ""
      ],
      "metadata": {
        "id": "AsVbTmSR6Irh"
      },
      "execution_count": null,
      "outputs": []
    },
    {
      "cell_type": "code",
      "source": [
        ""
      ],
      "metadata": {
        "id": "2LyVFpjm6IoS"
      },
      "execution_count": null,
      "outputs": []
    },
    {
      "cell_type": "code",
      "source": [
        ""
      ],
      "metadata": {
        "id": "3OvNxQZ_6Ik1"
      },
      "execution_count": null,
      "outputs": []
    },
    {
      "cell_type": "code",
      "source": [
        ""
      ],
      "metadata": {
        "id": "MFp3NRBS6IhR"
      },
      "execution_count": null,
      "outputs": []
    }
  ]
}